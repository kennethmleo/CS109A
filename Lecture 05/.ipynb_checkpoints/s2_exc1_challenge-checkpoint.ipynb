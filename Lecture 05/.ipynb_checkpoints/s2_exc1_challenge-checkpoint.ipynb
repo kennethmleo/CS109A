{
 "cells": [
  {
   "cell_type": "markdown",
   "metadata": {},
   "source": [
    "## Title :\n",
    "Exercise: Best Degree of Polynomial with Train and Validation sets\n",
    "\n",
    "## Description :\n",
    "The aim of this exercise is to find the **best degree** of polynomial based on the MSE values. Further, plot the train and validation error graphs as a function of degree of the polynomial as shown below.\n",
    "\n",
    "![fig3](fig/fig3.png)\n",
    "\n",
    "## Data Description:\n",
    "\n",
    "## Instructions:\n",
    "\n",
    "- Read the dataset and split into train and validation sets.\n",
    "- Select a max degree value for the polynomial model.\n",
    "- Fit a polynomial regression model on the training data for each degree and predict on the validation data.\n",
    "- Compute the train and validation error as MSE values and store in separate lists.\n",
    "- Find out the best degree of the model.\n",
    "- Plot the train and validation errors for each degree.\n",
    "\n",
    "## Hints: \n",
    "\n",
    "<a href=\"https://pandas.pydata.org/pandas-docs/stable/reference/api/pandas.read_csv.html\" target=\"_blank\">pd.read_csv(filename)</a>\n",
    "Returns a pandas dataframe containing the data and labels from the file data\n",
    "\n",
    "<a href=\"https://scikit-learn.org/stable/modules/generated/sklearn.model_selection.train_test_split.html\" target=\"_blank\">sklearn.train_test_split()</a>\n",
    "Splits the data into random train and test subsets\n",
    "\n",
    "<a href=\"https://scikit-learn.org/stable/modules/generated/sklearn.preprocessing.PolynomialFeatures.html\" target=\"_blank\">sklearn.PolynomialFeatures()</a>\n",
    "Generates a new feature matrix consisting of all polynomial combinations of the features with degree less than or equal to the specified degree\n",
    "\n",
    "<a href=\"https://scikit-learn.org/stable/modules/generated/sklearn.preprocessing.PolynomialFeatures.html#sklearn.preprocessing.PolynomialFeatures.fit_transform\" target=\"_blank\">sklearn.fit_transform()</a>\n",
    "Fits transformer to X and y with optional parameters fit_params and returns a transformed version of X\n",
    "\n",
    "<a href=\"https://scikit-learn.org/stable/modules/generated/sklearn.linear_model.LinearRegression.html\" target=\"_blank\">sklearn.LinearRegression(fit_intercept=False)</a>\n",
    "LinearRegression fits a linear model with no intercept calculation\n",
    "\n",
    "<a href=\"https://scikit-learn.org/stable/modules/generated/sklearn.linear_model.LinearRegression.html#sklearn.linear_model.LinearRegression.fit\" target=\"_blank\">sklearn.fit()</a>\n",
    "Fits the linear model to the training data\n",
    "\n",
    "<a href=\"https://scikit-learn.org/stable/modules/generated/sklearn.linear_model.LinearRegression.html#sklearn.linear_model.LinearRegression.predict\" target=\"_blank\">sklearn.predict()</a>\n",
    "Predict using the linear model\n",
    "\n",
    "<a href=\"https://matplotlib.org/3.2.1/api/_as_gen/matplotlib.pyplot.subplots.html\" target=\"_blank\">plt.subplots()</a>\n",
    "Create a figure and a set of subplots\n",
    "\n",
    "**Note:** This exercise is auto-graded and you can try multiple attempts."
   ]
  },
  {
   "cell_type": "code",
   "execution_count": 1,
   "metadata": {},
   "outputs": [],
   "source": [
    "# Import necessary libraries\n",
    "import operator\n",
    "import numpy as np\n",
    "import pandas as pd\n",
    "import matplotlib.pyplot as plt\n",
    "from sklearn.metrics import mean_squared_error\n",
    "from sklearn.linear_model import LinearRegression\n",
    "from sklearn.model_selection import train_test_split\n",
    "from sklearn.preprocessing import PolynomialFeatures\n",
    "%matplotlib inline\n"
   ]
  },
  {
   "cell_type": "markdown",
   "metadata": {},
   "source": [
    "### Reading the dataset"
   ]
  },
  {
   "cell_type": "code",
   "execution_count": 2,
   "metadata": {},
   "outputs": [
    {
     "data": {
      "text/html": [
       "<div>\n",
       "<style scoped>\n",
       "    .dataframe tbody tr th:only-of-type {\n",
       "        vertical-align: middle;\n",
       "    }\n",
       "\n",
       "    .dataframe tbody tr th {\n",
       "        vertical-align: top;\n",
       "    }\n",
       "\n",
       "    .dataframe thead th {\n",
       "        text-align: right;\n",
       "    }\n",
       "</style>\n",
       "<table border=\"1\" class=\"dataframe\">\n",
       "  <thead>\n",
       "    <tr style=\"text-align: right;\">\n",
       "      <th></th>\n",
       "      <th>x</th>\n",
       "      <th>y</th>\n",
       "    </tr>\n",
       "  </thead>\n",
       "  <tbody>\n",
       "    <tr>\n",
       "      <th>0</th>\n",
       "      <td>4.98</td>\n",
       "      <td>24.0</td>\n",
       "    </tr>\n",
       "    <tr>\n",
       "      <th>1</th>\n",
       "      <td>9.14</td>\n",
       "      <td>21.6</td>\n",
       "    </tr>\n",
       "    <tr>\n",
       "      <th>2</th>\n",
       "      <td>4.03</td>\n",
       "      <td>34.7</td>\n",
       "    </tr>\n",
       "    <tr>\n",
       "      <th>3</th>\n",
       "      <td>2.94</td>\n",
       "      <td>33.4</td>\n",
       "    </tr>\n",
       "    <tr>\n",
       "      <th>4</th>\n",
       "      <td>5.33</td>\n",
       "      <td>36.2</td>\n",
       "    </tr>\n",
       "  </tbody>\n",
       "</table>\n",
       "</div>"
      ],
      "text/plain": [
       "      x     y\n",
       "0  4.98  24.0\n",
       "1  9.14  21.6\n",
       "2  4.03  34.7\n",
       "3  2.94  33.4\n",
       "4  5.33  36.2"
      ]
     },
     "execution_count": 2,
     "metadata": {},
     "output_type": "execute_result"
    }
   ],
   "source": [
    "# Read the file \"dataset.csv\" as a Pandas dataframe\n",
    "df = pd.read_csv(\"data/dataset.csv\")\n",
    "\n",
    "# Take a quick look at the dataset\n",
    "df.head()\n"
   ]
  },
  {
   "cell_type": "code",
   "execution_count": 3,
   "metadata": {},
   "outputs": [],
   "source": [
    "# Assign the values of the x and y column values to the \n",
    "# predictor and response variables\n",
    "x = df[['x']].values\n",
    "y = df.y.values\n"
   ]
  },
  {
   "cell_type": "markdown",
   "metadata": {},
   "source": [
    "### Train-validation split"
   ]
  },
  {
   "cell_type": "code",
   "execution_count": 4,
   "metadata": {},
   "outputs": [],
   "source": [
    "### edTest(test_random) ###\n",
    "\n",
    "# Split the dataset into train and validation sets with 75% training set\n",
    "# Set random_state=1\n",
    "x_train, x_val, y_train, y_val = train_test_split(x, y, train_size=0.75, random_state=1)\n"
   ]
  },
  {
   "cell_type": "markdown",
   "metadata": {},
   "source": [
    "### Computing the train and validation error in terms of MSE"
   ]
  },
  {
   "cell_type": "code",
   "execution_count": 5,
   "metadata": {},
   "outputs": [],
   "source": [
    "### edTest(test_regression) ###\n",
    "\n",
    "# To iterate over the range, select the maximum degree of the polynomial\n",
    "maxdeg = 10\n",
    "\n",
    "# Create two empty lists to store training and validation MSEs\n",
    "training_error, validation_error = [],[]\n",
    "\n",
    "# Loop through the degrees of the polynomial to create different models\n",
    "for d in range(maxdeg):\n",
    "    \n",
    "    # Compute the polynomial features for the current degree \n",
    "    # for the train set\n",
    "    x_poly_train = PolynomialFeatures(degree = d).fit_transform(x_train)\n",
    "\n",
    "    # Compute the polynomial features for the validation set\n",
    "    x_poly_val = PolynomialFeatures(degree = d).fit_transform(x_val)\n",
    "    \n",
    "    # Initialize a linear regression model\n",
    "    lreg = LinearRegression(fit_intercept=False)\n",
    "\n",
    "    # Fit the model on the train data\n",
    "    lreg.fit(x_poly_train, y_train)\n",
    "    \n",
    "    # Use the trained model to predict on the transformed train data\n",
    "    y_train_pred = lreg.predict(x_poly_train)\n",
    "\n",
    "    # Use the trained model to predict on the transformed validation data\n",
    "    y_val_pred = lreg.predict(x_poly_val)\n",
    "    \n",
    "    # Compute the MSE on the train predictions\n",
    "    training_error.append(mean_squared_error(y_train, y_train_pred))\n",
    "\n",
    "    # Compute the MSE on the validation predictions\n",
    "    validation_error.append(mean_squared_error(y_val, y_val_pred))\n",
    "    "
   ]
  },
  {
   "cell_type": "markdown",
   "metadata": {},
   "source": [
    "### Finding the best degree"
   ]
  },
  {
   "cell_type": "code",
   "execution_count": 6,
   "metadata": {},
   "outputs": [
    {
     "name": "stdout",
     "output_type": "stream",
     "text": [
      "The best degree of the model is 2\n"
     ]
    }
   ],
   "source": [
    "### edTest(test_best_degree) ###\n",
    "\n",
    "# Helper code to compute the best degree, which is the model \n",
    "# with the lowest validation error\n",
    "min_mse = min(validation_error)\n",
    "best_degree = validation_error.index(min_mse)\n",
    "\n",
    "# Print the degree of the best model computed above\n",
    "print(\"The best degree of the model is\",best_degree)\n"
   ]
  },
  {
   "cell_type": "markdown",
   "metadata": {},
   "source": [
    "### Plotting the error graph"
   ]
  },
  {
   "cell_type": "code",
   "execution_count": 7,
   "metadata": {},
   "outputs": [
    {
     "data": {
      "image/png": "[encoded data removed]",
      "text/plain": [
       "<Figure size 640x480 with 1 Axes>"
      ]
     },
     "metadata": {},
     "output_type": "display_data"
    }
   ],
   "source": [
    "# Plot the errors as a function of increasing d value to visualise the training \n",
    "# and testing errors\n",
    "fig, ax = plt.subplots()\n",
    "\n",
    "# Plot the training error with labels\n",
    "ax.plot(np.arange(0, maxdeg), training_error, label=\"Training Error\")\n",
    "\n",
    "# Plot the validation error with labels\n",
    "ax.plot(np.arange(0, maxdeg), validation_error, label=\"Validation Error\")\n",
    "\n",
    "# Set the plot labels and legends\n",
    "ax.set_xlabel('Degree of Polynomial')\n",
    "ax.set_ylabel('Mean Squared Error')\n",
    "ax.legend(loc = 'best')\n",
    "ax.set_yscale('log')\n",
    "plt.show();\n"
   ]
  },
  {
   "cell_type": "markdown",
   "metadata": {},
   "source": [
    "#### ⏸ If you run the exercise with a random state of 0, do you notice any change? What would you attribute this change to?"
   ]
  },
  {
   "cell_type": "code",
   "execution_count": 29,
   "metadata": {},
   "outputs": [],
   "source": [
    "### edTest(test_chow1) ###\n",
    "# Submit an answer choice as a string below \n",
    "answer1 = 'No good, it change a lot'\n"
   ]
  },
  {
   "cell_type": "code",
   "execution_count": null,
   "metadata": {},
   "outputs": [],
   "source": []
  }
 ],
 "metadata": {
  "kernelspec": {
   "display_name": "Python 3 (ipykernel)",
   "language": "python",
   "name": "python3"
  },
  "language_info": {
   "codemirror_mode": {
    "name": "ipython",
    "version": 3
   },
   "file_extension": ".py",
   "mimetype": "text/x-python",
   "name": "python",
   "nbconvert_exporter": "python",
   "pygments_lexer": "ipython3",
   "version": "3.12.2"
  }
 },
 "nbformat": 4,
 "nbformat_minor": 4
}
