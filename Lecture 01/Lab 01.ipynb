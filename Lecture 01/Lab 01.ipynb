{
 "cells": [
  {
   "attachments": {},
   "cell_type": "markdown",
   "metadata": {},
   "source": [
    "# <img style=\"float: left; padding-right: 10px; width: 45px\" src=\"https://raw.githubusercontent.com/Harvard-IACS/2018-CS109A/master/content/styles/iacs.png\"> CS109A Introduction to Data Science \n",
    "\n",
    "## Lab 01: Introduction to Web Scraping\n",
    "\n",
    "**Harvard University**<br/>\n",
    "**Fall 2021**<br/>\n",
    "**Instructors**: Pavlos Protopapas and Natesh Pillai<br/>\n",
    "**Lab Team**: Marios Mattheakis, Hayden Joy, Chris Gumb, and Eleni Kaxiras<br/>\n",
    "**Authors**: Varshini Reddy, Marios Mattheakis and Pavlos Protopapas\n",
    "\n",
    "\n",
    "<hr style='height:2px'>"
   ]
  },
  {
   "cell_type": "code",
   "execution_count": 1,
   "metadata": {},
   "outputs": [
    {
     "data": {
      "text/html": [
       "<style>\n",
       "blockquote { background: #AEDE94; }\n",
       "h1 { \n",
       "    padding-top: 25px;\n",
       "    padding-bottom: 25px;\n",
       "    text-align: left; \n",
       "    padding-left: 10px;\n",
       "    background-color: #DDDDDD; \n",
       "    color: black;\n",
       "}\n",
       "h2 { \n",
       "    padding-top: 10px;\n",
       "    padding-bottom: 10px;\n",
       "    text-align: left; \n",
       "    padding-left: 5px;\n",
       "    background-color: #EEEEEE; \n",
       "    color: black;\n",
       "}\n",
       "\n",
       "div.exercise {\n",
       "\tbackground-color: #ffcccc;\n",
       "\tborder-color: #E9967A; \t\n",
       "\tborder-left: 5px solid #800080; \n",
       "\tpadding: 0.5em;\n",
       "}\n",
       "\n",
       "div.exercise-r {\n",
       "\tbackground-color: #fce8e8;\n",
       "\tborder-color: #E9967A; \t\n",
       "\tborder-left: 5px solid #800080; \n",
       "\tpadding: 0.5em;\n",
       "}\n",
       "\n",
       "\n",
       "span.sub-q {\n",
       "\tfont-weight: bold;\n",
       "}\n",
       "div.theme {\n",
       "\tbackground-color: #DDDDDD;\n",
       "\tborder-color: #E9967A; \t\n",
       "\tborder-left: 5px solid #800080; \n",
       "\tpadding: 0.5em;\n",
       "\tfont-size: 18pt;\n",
       "}\n",
       "div.gc { \n",
       "\tbackground-color: #AEDE94;\n",
       "\tborder-color: #E9967A; \t \n",
       "\tborder-left: 5px solid #800080; \n",
       "\tpadding: 0.5em;\n",
       "\tfont-size: 12pt;\n",
       "}\n",
       "p.q1 { \n",
       "    padding-top: 5px;\n",
       "    padding-bottom: 5px;\n",
       "    text-align: left; \n",
       "    padding-left: 5px;\n",
       "    background-color: #EEEEEE; \n",
       "    color: black;\n",
       "}\n",
       "header {\n",
       "   padding-top: 35px;\n",
       "    padding-bottom: 35px;\n",
       "    text-align: left; \n",
       "    padding-left: 10px;\n",
       "    background-color: #DDDDDD; \n",
       "    color: black;\n",
       "}\n",
       "</style>\n",
       "\n"
      ],
      "text/plain": [
       "<IPython.core.display.HTML object>"
      ]
     },
     "execution_count": 1,
     "metadata": {},
     "output_type": "execute_result"
    }
   ],
   "source": [
    "## RUN THIS CELL TO GET THE RIGHT FORMATTING \n",
    "import requests\n",
    "from IPython.core.display import HTML\n",
    "styles = requests.get(\"https://raw.githubusercontent.com/Harvard-IACS/2018-CS109A/master/content/styles/cs109.css\").text\n",
    "HTML(styles)\n"
   ]
  },
  {
   "attachments": {},
   "cell_type": "markdown",
   "metadata": {},
   "source": [
    "## Lab Learning Objectives\n",
    "\n",
    "When we're done today, you will approach messy real-world data with confidence that you can get it into a format that you can manipulate.\n",
    "\n",
    "Specifically, our learning objectives are:\n",
    "* Understand the tree-like structure of an HTML document and use that structure to extract desired information.\n",
    "* Use Python data structures such as lists, dictionaries to store and manipulate information.\n",
    "\n",
    "* Practice using [Python](https://docs.python.org/3.6/) packages such as [BeautifulSoup](https://www.crummy.com/software/BeautifulSoup/bs4/doc/), including how to navigate their documentation to find functionality.\n",
    "\n",
    "* Identify other (semi-)structured formats commonly used for storing and transferring data, such as CSV."
   ]
  },
  {
   "attachments": {},
   "cell_type": "markdown",
   "metadata": {},
   "source": [
    "## Pre-Requisites\n",
    "\n",
    "Before you start working on the lab, we expect you to be familiar with Python programming. Following is the list of topics you need to brush up on before attending the lab session. We have provided some quick start references as well.\n",
    "* Python Data Structures\n",
    "    - [Lists](https://towardsdatascience.com/a-complete-guide-to-python-lists-6b592c8d5707)\n",
    "    - [Dictionaries](https://medium.com/@faith.chikwekwe/how-dictionaries-work-in-python-162c6386c2cf)\n",
    "* [Functions](https://www.w3schools.com/python/python_scope.asp) in python\n",
    "* Python [classes](https://docs.python.org/3/tutorial/classes.html)\n",
    "* [Files](https://www.w3schools.com/python/python_file_handling.asp) and [strings](https://docs.python.org/3/tutorial/inputoutput.html)\n"
   ]
  },
  {
   "cell_type": "code",
   "execution_count": 2,
   "metadata": {},
   "outputs": [],
   "source": [
    "# Importing necessary libraries\n",
    "import numpy as np\n",
    "import matplotlib.pyplot as plt\n",
    "import pandas as pd\n",
    "from bs4 import BeautifulSoup\n",
    "import requests\n",
    "import json\n",
    "from IPython.display import HTML\n",
    "%matplotlib inline "
   ]
  },
  {
   "cell_type": "code",
   "execution_count": 3,
   "metadata": {},
   "outputs": [],
   "source": [
    "# Setting up 'requests' to make HTTPS requests properly takes some \n",
    "#       extra steps.\n",
    "\n",
    "requests.packages.urllib3.disable_warnings()\n",
    "\n",
    "import warnings\n",
    "warnings.filterwarnings(\"ignore\")\n"
   ]
  },
  {
   "attachments": {},
   "cell_type": "markdown",
   "metadata": {},
   "source": [
    "## Lab Data Analysis Questions\n",
    "\n",
    "Is science becoming more collaborative over time? How about literature? Are there a few \"geniuses\" or lots of hard workers? One way we might answer those questions is by looking at Nobel Prizes winners. We could ask questions like:\n",
    "\n",
    "* 1) Has anyone won a prize more than once?\n",
    "* 2) How has the total number of recipients changed over time?\n",
    "* 3) How has the number of recipients per award changed over time?\n",
    "\n",
    "\n",
    "To answer these questions, we will need data: *who* received *what* award and *when*. \n"
   ]
  },
  {
   "attachments": {},
   "cell_type": "markdown",
   "metadata": {},
   "source": [
    "## When possible: find a structured dataset (.csv, .json, .xls)\n",
    "\n",
    "After a google search we stumble upon this [dataset on github](https://github.com/OpenRefine/OpenRefine/blob/master/main/tests/data/nobel-prize-winners.csv). It is also in the lab folder named `github-nobel-prize-winners.csv`.\n",
    "\n",
    "We use Pandas to read it. Pandas will be covered next week in more details. "
   ]
  },
  {
   "cell_type": "code",
   "execution_count": 4,
   "metadata": {},
   "outputs": [
    {
     "data": {
      "text/html": [
       "<div>\n",
       "<style scoped>\n",
       "    .dataframe tbody tr th:only-of-type {\n",
       "        vertical-align: middle;\n",
       "    }\n",
       "\n",
       "    .dataframe tbody tr th {\n",
       "        vertical-align: top;\n",
       "    }\n",
       "\n",
       "    .dataframe thead th {\n",
       "        text-align: right;\n",
       "    }\n",
       "</style>\n",
       "<table border=\"1\" class=\"dataframe\">\n",
       "  <thead>\n",
       "    <tr style=\"text-align: right;\">\n",
       "      <th></th>\n",
       "      <th>year</th>\n",
       "      <th>discipline</th>\n",
       "      <th>winner</th>\n",
       "      <th>desc</th>\n",
       "    </tr>\n",
       "  </thead>\n",
       "  <tbody>\n",
       "    <tr>\n",
       "      <th>0</th>\n",
       "      <td>1901</td>\n",
       "      <td>chemistry</td>\n",
       "      <td>Jacobus H. van 't Hoff</td>\n",
       "      <td>in recognition of the extraordinary services h...</td>\n",
       "    </tr>\n",
       "    <tr>\n",
       "      <th>1</th>\n",
       "      <td>1901</td>\n",
       "      <td>literature</td>\n",
       "      <td>Sully Prudhomme</td>\n",
       "      <td>in special recognition of his poetic compositi...</td>\n",
       "    </tr>\n",
       "    <tr>\n",
       "      <th>2</th>\n",
       "      <td>1901</td>\n",
       "      <td>medicine</td>\n",
       "      <td>Emil von Behring</td>\n",
       "      <td>for his work on serum therapy, especially its ...</td>\n",
       "    </tr>\n",
       "    <tr>\n",
       "      <th>3</th>\n",
       "      <td>1901</td>\n",
       "      <td>peace</td>\n",
       "      <td>Henry Dunant</td>\n",
       "      <td>NaN</td>\n",
       "    </tr>\n",
       "    <tr>\n",
       "      <th>4</th>\n",
       "      <td>1901</td>\n",
       "      <td>peace</td>\n",
       "      <td>Fr&amp;eacute;d&amp;eacute;ric Passy</td>\n",
       "      <td>NaN</td>\n",
       "    </tr>\n",
       "  </tbody>\n",
       "</table>\n",
       "</div>"
      ],
      "text/plain": [
       "   year  discipline                        winner  \\\n",
       "0  1901   chemistry        Jacobus H. van 't Hoff   \n",
       "1  1901  literature               Sully Prudhomme   \n",
       "2  1901    medicine              Emil von Behring   \n",
       "3  1901       peace                  Henry Dunant   \n",
       "4  1901       peace  Fr&eacute;d&eacute;ric Passy   \n",
       "\n",
       "                                                desc  \n",
       "0  in recognition of the extraordinary services h...  \n",
       "1  in special recognition of his poetic compositi...  \n",
       "2  for his work on serum therapy, especially its ...  \n",
       "3                                                NaN  \n",
       "4                                                NaN  "
      ]
     },
     "execution_count": 4,
     "metadata": {},
     "output_type": "execute_result"
    }
   ],
   "source": [
    "df = pd.read_csv(\"data/github-nobel-prize-winners.csv\")\n",
    "df.head() \n"
   ]
  },
  {
   "attachments": {},
   "cell_type": "markdown",
   "metadata": {},
   "source": [
    "## Research Question 1: Did anyone recieve the Nobel Prize more than once?"
   ]
  },
  {
   "attachments": {},
   "cell_type": "markdown",
   "metadata": {},
   "source": [
    "**How would you check if anyone recieved more than one nobel prize?**\n",
    "\n",
    "We will be using Python lists for this, which is a pre-requisite for this lab as mentioned earlier. If you have any questions with regards to lists or list comprehensions, refer to the slides from us [here](references/Lists.pdf)."
   ]
  },
  {
   "cell_type": "code",
   "execution_count": 5,
   "metadata": {},
   "outputs": [
    {
     "name": "stdout",
     "output_type": "stream",
     "text": [
      "Marie Curie\n",
      "No Prize was Awarded\n",
      "No Prize was Awarded\n",
      "No Prize was Awarded\n",
      "No Prize was Awarded\n",
      "No Prize was Awarded\n",
      "No Prize was Awarded\n",
      "No Prize was Awarded\n",
      "No Prize was Awarded\n",
      "No Prize was Awarded\n",
      "No Prize was Awarded\n",
      "No Prize was Awarded\n",
      "No Prize was Awarded\n",
      "No Prize was Awarded\n",
      "No Prize was Awarded\n",
      "No Prize was Awarded\n",
      "No Prize was Awarded\n",
      "No Prize was Awarded\n",
      "No Prize was Awarded\n",
      "No Prize was Awarded\n",
      "No Prize was Awarded\n",
      "No Prize was Awarded\n",
      "No Prize was Awarded\n",
      "No Prize was Awarded\n",
      "No Prize was Awarded\n",
      "No Prize was Awarded\n",
      "No Prize was Awarded\n",
      "No Prize was Awarded\n",
      "No Prize was Awarded\n",
      "No Prize was Awarded\n",
      "No Prize was Awarded\n",
      "No Prize was Awarded\n",
      "No Prize was Awarded\n",
      "No Prize was Awarded\n",
      "No Prize was Awarded\n",
      "No Prize was Awarded\n",
      "No Prize was Awarded\n",
      "No Prize was Awarded\n",
      "No Prize was Awarded\n",
      "No Prize was Awarded\n",
      "No Prize was Awarded\n",
      "No Prize was Awarded\n",
      "No Prize was Awarded\n",
      "International Committee of the Red Cross\n",
      "No Prize was Awarded\n",
      "No Prize was Awarded\n",
      "No Prize was Awarded\n",
      "Linus Pauling\n",
      "International Committee of the Red Cross\n",
      "No Prize was Awarded\n",
      "No Prize was Awarded\n",
      "No Prize was Awarded\n",
      "John Bardeen\n",
      "Frederick Sanger\n",
      "Office of the United Nations High Commissioner for Refugees\n"
     ]
    }
   ],
   "source": [
    "# Initialize the list storing all the names \n",
    "name_winners = []\n",
    "\n",
    "for name in df.winner:\n",
    "    \n",
    "    # Check if we already encountered this name: \n",
    "    if name in name_winners:\n",
    "        \n",
    "        # (TODO) If so, print the name\n",
    "        print(name)\n",
    "    else:\n",
    "        # (TODO) Otherwise append the name to the list\n",
    "        name_winners.append(name)\n",
    "        "
   ]
  },
  {
   "attachments": {},
   "cell_type": "markdown",
   "metadata": {},
   "source": [
    "**We don't want to print \"No Prize was Awarded\" all the time.**"
   ]
  },
  {
   "cell_type": "code",
   "execution_count": 6,
   "metadata": {},
   "outputs": [
    {
     "name": "stdout",
     "output_type": "stream",
     "text": [
      "Marie Curie\n",
      "International Committee of the Red Cross\n",
      "Linus Pauling\n",
      "International Committee of the Red Cross\n",
      "John Bardeen\n",
      "Frederick Sanger\n",
      "Office of the United Nations High Commissioner for Refugees\n"
     ]
    }
   ],
   "source": [
    "# List storing all the names \n",
    "name_winners = []\n",
    "\n",
    "for name in df.winner:\n",
    "    \n",
    "    # (TODO) Check if we already encountered this name and the name is not \"No Prize was Awarded\": \n",
    "    if name in name_winners and name != \"No Prize was Awarded\" : \n",
    "        # (TODO) If so, print the name\n",
    "        print(name)\n",
    "        \n",
    "    else:\n",
    "        # (TODO) Otherwise append the name to the list\n",
    "        name_winners.append(name)\n",
    "        "
   ]
  },
  {
   "attachments": {},
   "cell_type": "markdown",
   "metadata": {},
   "source": [
    "#### we can use .split() on a string to separate the words into individual strings and store them in a list.\n",
    "Experiment with the .split() below before using it. \n"
   ]
  },
  {
   "cell_type": "code",
   "execution_count": 7,
   "metadata": {},
   "outputs": [
    {
     "name": "stdout",
     "output_type": "stream",
     "text": [
      "['Office', 'of', 'the', 'United', 'Nations']\n",
      "Number of words: 5\n"
     ]
    }
   ],
   "source": [
    "UN_string = \"Office of the United Nations\"\n",
    "print(UN_string.split())\n",
    "n_words = len(UN_string.split())\n",
    "print(\"Number of words: \" + str(n_words));"
   ]
  },
  {
   "attachments": {},
   "cell_type": "markdown",
   "metadata": {},
   "source": [
    "Let us only print winners with only two words in their name:"
   ]
  },
  {
   "cell_type": "code",
   "execution_count": 8,
   "metadata": {},
   "outputs": [
    {
     "name": "stdout",
     "output_type": "stream",
     "text": [
      "Marie Curie\n",
      "Linus Pauling\n",
      "John Bardeen\n",
      "Frederick Sanger\n"
     ]
    }
   ],
   "source": [
    "name_winners = []\n",
    "\n",
    "for name in df.winner:\n",
    "    \n",
    "    # (TODO) Check if we already encountered this name and the name consists of no more than 2 words: \n",
    "    if name in name_winners and len(name.split()) <= 2: \n",
    "        # (TODO) If so, print the name\n",
    "        print(name)\n",
    "        \n",
    "    else:\n",
    "        # (TODO) Otherwise append the name to the list\n",
    "        name_winners.append(name)"
   ]
  },
  {
   "attachments": {},
   "cell_type": "markdown",
   "metadata": {},
   "source": [
    "![Curie](images/Curie.jpg)\n",
    "\n",
    "Marie Curie recieved the nobel prize in physics in 1903 and chemistry in 1911.\n",
    "She is one of only four people to recieve two Nobel Prizes."
   ]
  },
  {
   "attachments": {},
   "cell_type": "markdown",
   "metadata": {},
   "source": [
    "All questions, such as \"did anyone receive the Noble Price more than once?\", are easy to answer when the data is present in such a clean tabular form. However, many times (if not most) we do not find the data we need in such a format. \n",
    "\n",
    "In such cases, we need to perform web scraping and cleaning to get the data we desire. The end result of this lab is to create a pandas dataframe after web scraping and cleaning.\n"
   ]
  },
  {
   "attachments": {},
   "cell_type": "markdown",
   "metadata": {},
   "source": [
    "# WEB SCRAPING\n"
   ]
  },
  {
   "attachments": {},
   "cell_type": "markdown",
   "metadata": {},
   "source": [
    "#### The first step in web scraping is to understand the HTML structure of the webpage.\n",
    "\n",
    "#### But, what is HTML?"
   ]
  },
  {
   "attachments": {},
   "cell_type": "markdown",
   "metadata": {},
   "source": [
    "HTML stands for Hyper Text Markup Language. It is the standard markup language for documents designed to be displayed in a web browser. It can be assisted by technologies such as Cascading Style Sheets and scripting languages such as JavaScript."
   ]
  },
  {
   "attachments": {},
   "cell_type": "markdown",
   "metadata": {},
   "source": [
    "### Standard HTML documents\n",
    "\n",
    "HTML documents generally have the following structure:"
   ]
  },
  {
   "attachments": {},
   "cell_type": "markdown",
   "metadata": {},
   "source": [
    "<div class=\"alert alert-block alert-danger\" style=\"color:black;background-color:#EBEBEB\">\n",
    "\n",
    "**\\<!DOCTYPE html>**\n",
    "\n",
    "**\\<html>**\n",
    "\n",
    "**\\<head>**\n",
    "\n",
    "**\\<title>Page Title\\</title>**\n",
    "\n",
    "**\\</head>**\n",
    "\n",
    "**\\<body>**\n",
    "\n",
    "**\\<h1>Page Heading\\</h1>**\n",
    "\n",
    "**\\<p>The first paragraph of page\\</p>**\n",
    "\n",
    "**.**\n",
    "\n",
    "**.**\n",
    "\n",
    "**.**\n",
    "\n",
    "**.**\n",
    "\n",
    "**\\</body>**\n",
    "\n",
    "**\\</html>**\n",
    "    \n",
    "</div>"
   ]
  },
  {
   "attachments": {},
   "cell_type": "markdown",
   "metadata": {},
   "source": [
    "### What does each of these tags indicate?\n",
    "\n",
    "- The **\\<!DOCTYPE html>** declaration defines that this document is an HTML5 document\n",
    "\n",
    "- The **\\<html>** element is the root element of an HTML page\n",
    "\n",
    "- The **\\<head>** element contains meta information about the HTML page\n",
    "\n",
    "- The **\\<title>** element specifies a title for the HTML page (which is shown in the browser's title bar or in the page's tab)\n",
    "\n",
    "- The **\\<body>** element defines the document's body, and is a container for all the visible contents, such as headings, paragraphs, images, hyperlinks, tables, lists, etc.\n",
    "\n",
    "- The **\\<h1>** element defines a large heading. There are other heading tags in html, **\\<h2>, \\<h3>, \\<h4>, \\<h5>, \\<h6>**\n",
    "\n",
    "- The **\\<p>** element defines a paragraph\n"
   ]
  },
  {
   "attachments": {},
   "cell_type": "markdown",
   "metadata": {},
   "source": [
    "### What is an HTML Element?\n",
    "\n",
    "An HTML element is defined by a start tag, some content, and an end tag:\n",
    "\n",
    "**\\<tagname> Tag content \\</tagname>**\n",
    "\n",
    "An example of an HTML element is as follows:\n",
    "\n",
    "**\\<h1> The Page Heading \\</h1>**\n",
    "\n"
   ]
  },
  {
   "attachments": {},
   "cell_type": "markdown",
   "metadata": {},
   "source": [
    "### WEB SCRAPING\n",
    "\n",
    "\n",
    "The official <a href = https://www.nobelprize.org/prizes/lists/all-nobel-prizes/> Nobel website </a> has the data we want, but in 2018 and 2019 the physics prize was awarded to multiple groups so we will use an archived version of the web-page for an easier introduction to web scraping.\n"
   ]
  },
  {
   "attachments": {},
   "cell_type": "markdown",
   "metadata": {},
   "source": [
    "The Internet Archive periodically crawls most of the Internet and saves what it finds. (That's a lot of data!) So let's grab the data from the Archive's \"Wayback Machine\" (great name!). We've just given you the direct URL, but at the very end you'll see how we can get it out of a JSON response from the Wayback Machine API.\n",
    "\n",
    "\n",
    "Let's take a look at the [2018 version of the Nobel website](http://web.archive.org/web/20180820111639/https://www.nobelprize.org/prizes/lists/all-nobel-prizes/) and to look at the underhood HTML: right-click and click on `inspect`.You should see something like this.\n",
    "\n",
    "![inspect](images/inspect.png)\n",
    "\n"
   ]
  },
  {
   "attachments": {},
   "cell_type": "markdown",
   "metadata": {},
   "source": [
    "### Mapping the HTML tags to the webpage\n",
    "\n",
    "When you inspect, try to map each element on the webpage to its HTML. \n",
    "\n",
    "![html2](images/html2.png)"
   ]
  },
  {
   "cell_type": "code",
   "execution_count": 9,
   "metadata": {},
   "outputs": [
    {
     "data": {
      "text/html": [
       "         <div class =\"Class: by year\">               <h3>                  <a href=\"http://web.archive.org/web/20180820111639/https://www.nobelprize.org/nobel_prizes/physics/laureates/1921/\">                         The Nobel Prize in Physics 1921                   </a>              </h3>              <h6>                  <a href=\"http://web.archive.org/web/20180820111639/https://www.nobelprize.org/nobel_prizes/physics/laureates/1921/einstein-facts.html\">                        Albert Einstein</a>              </h6>              <p>                  “for his services to Theoretical Physics, and especially for his discovery of the law of the photoelectric effect”              </p>         "
      ],
      "text/plain": [
       "<IPython.core.display.HTML object>"
      ]
     },
     "metadata": {},
     "output_type": "display_data"
    }
   ],
   "source": [
    "# here is what we will get after selecting using the class by year tag.\n",
    "# we use the HTML parser module to render the html \n",
    "\n",
    "einstein = HTML('\\\n",
    "         <div class =\"Class: by year\">  \\\n",
    "             <h3> \\\n",
    "                 <a href=\"http://web.archive.org/web/20180820111639/https://www.nobelprize.org/nobel_prizes/physics/laureates/1921/\"> \\\n",
    "                        The Nobel Prize in Physics 1921 \\\n",
    "                  </a> \\\n",
    "             </h3> \\\n",
    "             <h6> \\\n",
    "                 <a href=\"http://web.archive.org/web/20180820111639/https://www.nobelprize.org/nobel_prizes/physics/laureates/1921/einstein-facts.html\">\\\n",
    "                        Albert Einstein</a> \\\n",
    "             </h6> \\\n",
    "             <p> \\\n",
    "                 “for his services to Theoretical Physics, and especially for his discovery of the law of the photoelectric effect” \\\n",
    "             </p> \\\n",
    "        ')\n",
    "display(einstein)"
   ]
  },
  {
   "cell_type": "code",
   "execution_count": 10,
   "metadata": {},
   "outputs": [],
   "source": [
    "snapshot_url = 'http://web.archive.org/web/20180820111639/https://www.nobelprize.org/prizes/lists/all-nobel-prizes/'"
   ]
  },
  {
   "cell_type": "code",
   "execution_count": 11,
   "metadata": {},
   "outputs": [
    {
     "data": {
      "text/plain": [
       "<Response [200]>"
      ]
     },
     "execution_count": 11,
     "metadata": {},
     "output_type": "execute_result"
    }
   ],
   "source": [
    "# (TODO) make a GET request to snapshot_url\n",
    "snapshot = requests.get(snapshot_url)\n",
    "snapshot"
   ]
  },
  {
   "attachments": {},
   "cell_type": "markdown",
   "metadata": {},
   "source": [
    "Response [200] is a success status code. Let's google: [`response 200 meaning`](https://www.google.com/search?q=response+200+meaning&oq=response+%5B200%5D+m&aqs=chrome.1.69i57j0l5.6184j0j7&sourceid=chrome&ie=UTF-8). All possible codes [here](https://developer.mozilla.org/en-US/docs/Web/HTTP/Status)."
   ]
  },
  {
   "cell_type": "code",
   "execution_count": 12,
   "metadata": {},
   "outputs": [
    {
     "data": {
      "text/plain": [
       "requests.models.Response"
      ]
     },
     "execution_count": 12,
     "metadata": {},
     "output_type": "execute_result"
    }
   ],
   "source": [
    "type(snapshot)"
   ]
  },
  {
   "attachments": {},
   "cell_type": "markdown",
   "metadata": {},
   "source": [
    "Try to request \"www.xoogle.be\". What happens?"
   ]
  },
  {
   "cell_type": "code",
   "execution_count": 13,
   "metadata": {},
   "outputs": [
    {
     "data": {
      "text/plain": [
       "<Response [404]>"
      ]
     },
     "execution_count": 13,
     "metadata": {},
     "output_type": "execute_result"
    }
   ],
   "source": [
    "snapshot_url2 = 'http://web.archive.org/web/20180820111639/https://www.xoogle.be'\n",
    "# (TODO) make a GET request to snapshot_url2\n",
    "snapshot = requests.get(snapshot_url2)\n",
    "snapshot"
   ]
  },
  {
   "attachments": {},
   "cell_type": "markdown",
   "metadata": {},
   "source": [
    "Always remember to “not to be evil” when scraping with requests! If downloading multiple pages (like you will be doing on HW1), always put a delay between requests (e.g., `time.sleep(1)`, with the `time` library), so you do not unwittingly hammer someone’s webserver and/or get blocked."
   ]
  },
  {
   "attachments": {},
   "cell_type": "markdown",
   "metadata": {},
   "source": [
    "Let's look at the content we just scraped!"
   ]
  },
  {
   "cell_type": "code",
   "execution_count": 14,
   "metadata": {},
   "outputs": [
    {
     "name": "stdout",
     "output_type": "stream",
     "text": [
      "\t<!DOCTYPE html>\n",
      "\n",
      "\t<html lang=\"en-US\" prefix=\"og: http://ogp.me/ns#\" class=\"no-js\">\n",
      "\n",
      "\t<head><script type=\"text/javascript\" src=\"https://web-static.archive.org/_static/js/bundle-playback.js?v=1B2M2Y8A\" charset=\"utf-8\"></script>\n",
      "<script type=\"text/javascript\" src=\"https://web-static.archive.org/_static/js/wombat.js?v=1B2M2Y8A\" charset=\"utf-8\"></script>\n",
      "<script>window.RufflePlayer=window.RufflePlayer||{};window.RufflePlayer.config={\"autoplay\":\"on\",\"unmuteOverlay\":\"hidden\",\"showSwfDownload\":true};</script>\n",
      "<script type=\"text/javascript\" src=\"https://web-static.archive.org/_static/js/ruffle/ruffle.js\"></script>\n",
      "<script type=\"text/javascript\">\n",
      "    __wm.init(\"http://web.archive.org/web\");\n",
      "  __wm.wombat(\"https://www.nobelprize.org/prizes/lists/all-nobel-prizes/\",\"20180820111639\",\"http://web.archive.org/\",\"web\",\"https://web-static.archive.org/_static/\",\n",
      "\t      \"1534763799\");\n",
      "</script>\n",
      "<link rel=\"stylesheet\" type=\"text/css\" href=\"https://web-static.archive.org/_static/css/banner-styles.css?v=1B2M2Y8A\" />\n",
      "<link rel=\"stylesheet\" type=\"text/css\" href=\"https://web-static.archive.org/_static/css/iconochive.css?v=1B2M2Y8A\" />\n",
      "<!-- End Wayback Rewrite JS Include -->\n",
      "\n",
      "\n",
      "\t\t<meta charset=\"UTF-8\"><script type=\"text/javascript\">window.NREUM||(NREUM={}),__nr_require=function(e,t,n){function r(n){if(!t[n]){var o=t[n]={exports:{}};e[n][0].call(o.exports,function(t){var o=e[n][1][t];return r(o||t)},o,o.exports)}return t[n].exports}if(\"function\"==typeof __nr_require)return __nr_require;for(var o=0;o<n.length;o++)r(n[o]);return r}({1:[function(e,t,n){function r(){}function o(e,t,n){return function(){return i(e,[f.now()].concat(u(arguments)),t?null:this,n),t?void 0:this}}var i=e(\"handle\"),a=e(2),u=e(3),c=e(\"ee\").get(\"tracer\"),f=e(\"loader\"),s=NREUM;\"undefined\"==typeof window.newrelic&&(newrelic=s);var p=[\"setPageViewName\",\"setCustomAttribute\",\"setErrorHandler\",\"finished\",\"addToTrace\",\"inlineHit\",\"addRelease\"],d=\"api-\",l=d+\"ixn-\";a(p,function(e,t){s[t]=o(d+t,!0,\"api\")}),s.addPageAction=o(d+\"addPageAction\",!0),s.setCurrentRouteName=o(d+\"routeName\",!0),t.exports=newrelic,s.interaction=function(){return(new r).get()};var m=r.prototype={createTracer:function(e,t){var n={},r=this,o=\"function\"==typeof t;return i(l+\"tracer\",[f.now(),e,n],r),function(){if(c.emit((o?\"\":\"no-\")+\"fn-start\",[f.now(),r,o],n),o)try{return t.apply(this,arguments)}catch(e){throw c.emit(\"fn-err\",[arguments,this,e],n),e}finally{c.emit(\"fn-end\",[f.now()],n)}}}};a(\"setName,setAttribute,save,ignore,onEnd,getContext,end,get\".split(\",\"),function(e,t){m[t]=o(l+t)}),newrelic.noticeError=function(e){\"string\"==typeof e&&(e=new Error(e)),i(\"err\",[e,f.now()])}},{}],2:[function(e,t,n){function r(e,t){var n=[],r=\"\",i=0;for(r in e)o.call(e,r)&&(n[i]=t(r,e[r]),i+=1);return n}var o=Object.prototype.hasOwnProperty;t.exports=r},{}],3:[function(e,t,n){function r(e,t,n){t||(t=0),\"undefined\"==typeof n&&(n=e?e.length:0);for(var r=-1,o=n-t||0,i=Array(o<0?0:o);++r<o;)i[r]=e[t+r];return i}t.exports=r},{}],4:[function(e,t,n){t.exports={exists:\"undefined\"!=typeof window.performance&&window.performance.timing&&\"undefined\"!=typeof window.performance.timing.navigationStart}},{}],ee:[function(e,t,n){function r(){}function o(e){function t(e){return e&&e instanceof r?e:e?c(e,u,i):i()}function n(n,r,o,i){if(!d.aborted||i){e&&e(n,r,o);for(var a=t(o),u=m(n),c=u.length,f=0;f<c;f++)u[f].apply(a,r);var p=s[y[n]];return p&&p.push([b,n,r,a]),a}}function l(e,t){v[e]=m(e).concat(t)}function m(e){return v[e]||[]}function w(e){return p[e]=p[e]||o(n)}function g(e,t){f(e,function(e,n){t=t||\"feature\",y[n]=t,t in s||(s[t]=[])})}var v={},y={},b={on:l,emit:n,get:w,listeners:m,context:t,buffer:g,abort:a,aborted:!1};return b}function i(){return new r}function a(){(s.api||s.feature)&&(d.aborted=!0,s=d.backlog={})}var u=\"nr@context\",c=e(\"gos\"),f=e(2),s={},p={},d=t.exports=o();d.backlog=s},{}],gos:[function(e,t,n){function r(e,t,n){if(o.call(e,t))return e[t];var r=n();if(Object.defineProperty&&Object.keys)try{return Object.defineProperty(e,t,{value:r,writable:!0,enumerable:!1}),r}catch(i){}return e[t]=r,r}var o=Object.prototype.hasOwnProperty;t.exports=r},{}],handle:[function(e,t,n){function r(e,t,n,r){o.buffer([e],r),o.emit(e,t,n)}var o=e(\"ee\").get(\"handle\");t.exports=r,r.ee=o},{}],id:[function(e,t,n){function r(e){var t=typeof e;return!e||\"object\"!==t&&\"function\"!==t?-1:e===window?0:a(e,i,function(){return o++})}var o=1,i=\"nr@id\",a=e(\"gos\");t.exports=r},{}],loader:[function(e,t,n){function r(){if(!x++){var e=h.info=NREUM.info,t=d.getElementsByTagName(\"script\")[0];if(setTimeout(s.abort,3e4),!(e&&e.licenseKey&&e.applicationID&&t))return s.abort();f(y,function(t,n){e[t]||(e[t]=n)}),c(\"mark\",[\"onload\",a()+h.offset],null,\"api\");var n=d.createElement(\"script\");n.src=\"https://\"+e.agent,t.parentNode.insertBefore(n,t)}}function o(){\"complete\"===d.readyState&&i()}function i(){c(\"mark\",[\"domContent\",a()+h.offset],null,\"api\")}function a(){return E.exists&&performance.now?Math.round(performance.now()):(u=Math.max((new Date).getTime(),u))-h\n"
     ]
    }
   ],
   "source": [
    "snapshot = requests.get(snapshot_url)\n",
    "raw_html = snapshot.text\n",
    "print(raw_html[:5000])"
   ]
  },
  {
   "attachments": {},
   "cell_type": "markdown",
   "metadata": {},
   "source": [
    "<hr>\n",
    "\n",
    "# What makes Python special ?"
   ]
  },
  {
   "attachments": {},
   "cell_type": "markdown",
   "metadata": {},
   "source": [
    "![CustomPython](images/CustomPython.png)\n"
   ]
  },
  {
   "attachments": {},
   "cell_type": "markdown",
   "metadata": {},
   "source": [
    "![StandardLibrary](images/StandardLibrary.png \"Title\")"
   ]
  },
  {
   "attachments": {},
   "cell_type": "markdown",
   "metadata": {},
   "source": [
    "![ThirdParty](images/ThirdParty.png \"Title\")"
   ]
  },
  {
   "attachments": {},
   "cell_type": "markdown",
   "metadata": {},
   "source": [
    "![Gravity](images/Gravity.png \"Title\")"
   ]
  },
  {
   "cell_type": "code",
   "execution_count": 15,
   "metadata": {},
   "outputs": [
    {
     "name": "stdout",
     "output_type": "stream",
     "text": [
      "The Zen of Python, by Tim Peters\n",
      "\n",
      "Beautiful is better than ugly.\n",
      "Explicit is better than implicit.\n",
      "Simple is better than complex.\n",
      "Complex is better than complicated.\n",
      "Flat is better than nested.\n",
      "Sparse is better than dense.\n",
      "Readability counts.\n",
      "Special cases aren't special enough to break the rules.\n",
      "Although practicality beats purity.\n",
      "Errors should never pass silently.\n",
      "Unless explicitly silenced.\n",
      "In the face of ambiguity, refuse the temptation to guess.\n",
      "There should be one-- and preferably only one --obvious way to do it.\n",
      "Although that way may not be obvious at first unless you're Dutch.\n",
      "Now is better than never.\n",
      "Although never is often better than *right* now.\n",
      "If the implementation is hard to explain, it's a bad idea.\n",
      "If the implementation is easy to explain, it may be a good idea.\n",
      "Namespaces are one honking great idea -- let's do more of those!\n"
     ]
    }
   ],
   "source": [
    "import this"
   ]
  },
  {
   "attachments": {},
   "cell_type": "markdown",
   "metadata": {},
   "source": [
    "## Regular Expressions\n",
    "\n",
    "\n",
    "You can find specific patterns or strings in text by using Regular Expressions (or re, regex, regexp): This is a pattern matching mechanism used throughout Computer Science and programming (it's not just specific to Python). \n",
    "\n",
    "A short summary of regular expressions from us can be found [here](references/RegularExpressions.pdf).\n",
    "\n",
    "Some great resources that we recommend, if you are interested in them (could be very useful for a homework problem):\n",
    "- https://docs.python.org/3.3/library/re.html\n",
    "- https://regexone.com\n",
    "- https://docs.python.org/3/howto/regex.html.\n",
    "\n",
    "\n",
    "\n",
    "Specify a specific sequence with the help of regex special characters. Some examples: \n",
    "- ```\\S``` : Matches any character which is not a Unicode whitespace character: spaces, tabs, newlines\n",
    "- ```\\d``` : Matches any Unicode decimal digit, `0`, `1`, ..., `9`\n",
    "- ```*``` : Causes the resulting RE to match 0 or more repetitions of the preceding RE, as many repetitions as are possible.\n",
    "\n",
    "**Let's find all the occurances of 'Marie' in our raw_html:**"
   ]
  },
  {
   "cell_type": "code",
   "execution_count": 16,
   "metadata": {},
   "outputs": [],
   "source": [
    "import re"
   ]
  },
  {
   "cell_type": "code",
   "execution_count": 17,
   "metadata": {},
   "outputs": [
    {
     "data": {
      "text/plain": [
       "['Marie', 'Marie', 'Marie', 'Marie', 'Marie', 'Marie']"
      ]
     },
     "execution_count": 17,
     "metadata": {},
     "output_type": "execute_result"
    }
   ],
   "source": [
    "re.findall(r'Marie', raw_html)"
   ]
  },
  {
   "attachments": {},
   "cell_type": "markdown",
   "metadata": {},
   "source": [
    "Note we use an r before the string to get the raw text.  "
   ]
  },
  {
   "attachments": {},
   "cell_type": "markdown",
   "metadata": {},
   "source": [
    "**Using ```\\S``` to match 'Marie' + ' ' + 'any character which is not a Unicode whitespace character':**"
   ]
  },
  {
   "cell_type": "code",
   "execution_count": 18,
   "metadata": {},
   "outputs": [
    {
     "data": {
      "text/plain": [
       "['Marie G', 'Marie L', 'Marie C', 'Marie B', 'Marie F', 'Marie C']"
      ]
     },
     "execution_count": 18,
     "metadata": {},
     "output_type": "execute_result"
    }
   ],
   "source": [
    "re.findall(r'Marie \\S',raw_html)"
   ]
  },
  {
   "attachments": {},
   "cell_type": "markdown",
   "metadata": {},
   "source": [
    "**How would we find the lastnames that come after Marie?**\n",
    "\n"
   ]
  },
  {
   "cell_type": "code",
   "execution_count": 19,
   "metadata": {},
   "outputs": [
    {
     "data": {
      "text/plain": [
       "['Gustave', 'Lehn', 'Curie', 'Bernhard', 'François', 'Curie']"
      ]
     },
     "execution_count": 19,
     "metadata": {},
     "output_type": "execute_result"
    }
   ],
   "source": [
    "re.findall(r'Marie (\\w+)', raw_html)"
   ]
  },
  {
   "attachments": {},
   "cell_type": "markdown",
   "metadata": {},
   "source": [
    "Hint: The \\w character represents any alpha-numeric character. \\w* is greedy and gets a repeat of the characters until the next bit of whitespace."
   ]
  },
  {
   "attachments": {},
   "cell_type": "markdown",
   "metadata": {},
   "source": [
    "Now, we have all our data in the notebook. Unfortunately, it is the form of one really long string, which is hard to work with directly. This is where BeautifulSoup comes in.  "
   ]
  },
  {
   "attachments": {},
   "cell_type": "markdown",
   "metadata": {},
   "source": [
    "#### This is an example of code that grabs the first title. Regex can quickly become complex, which motivates beautiful soup."
   ]
  },
  {
   "cell_type": "code",
   "execution_count": 20,
   "metadata": {},
   "outputs": [
    {
     "name": "stdout",
     "output_type": "stream",
     "text": [
      "<h3><a href=\"http://web.archive.org/web/20180820111639/https://www.nobelprize.org/nobel_prizes/physics/laureates/2018/\">The Nobel Prize in Physics 2018</a></h3>\n"
     ]
    }
   ],
   "source": [
    "first_title = re.findall(r'<h3><a.*>.*<\\/a><\\/h3>', raw_html)[0]\n",
    "print(first_title)\n",
    "\n",
    "#you can do this via regex, but it gets complicated fast! This motivates Beautiful Soup."
   ]
  },
  {
   "attachments": {},
   "cell_type": "markdown",
   "metadata": {},
   "source": [
    "## Parse the HTML with BeautifulSoup"
   ]
  },
  {
   "attachments": {},
   "cell_type": "markdown",
   "metadata": {},
   "source": [
    "BeautifulSoup works by parsing the raw html text into a tree. Every tag in the raw html becomes a node in the tree. We can then navigate the tree by selecting a node and querying its parent, children, siblings, etc.\n",
    "\n",
    "![html-dom](images/html-dom.png)"
   ]
  },
  {
   "cell_type": "code",
   "execution_count": 21,
   "metadata": {},
   "outputs": [],
   "source": [
    "soup = BeautifulSoup(raw_html, 'html.parser')"
   ]
  },
  {
   "attachments": {},
   "cell_type": "markdown",
   "metadata": {},
   "source": [
    "Key BeautifulSoup functions we’ll be using in this lab:\n",
    "- **`tag.prettify()`**: Returns cleaned-up version of raw HTML, useful for printing\n",
    "- **`tag.select(selector)`**: Return a list of nodes matching a [CSS selector](https://developer.mozilla.org/en-US/docs/Learn/CSS/Introduction_to_CSS/Simple_selectors)\n",
    "- **`tag.select_one(selector)`**: Return the first node matching a CSS selector\n",
    "- **`tag.text/soup.get_text()`**: Returns visible text of a node (e.g.,\"`<p>Some text</p>`\" -> \"Some text\")\n",
    "- **`tag.contents`**: A list of the immediate children of this node\n",
    "\n",
    "You can also use these functions to find nodes.\n",
    "- **`tag.find_all(tag_name, attrs=attributes_dict)`**: Returns a list of matching nodes\n",
    "- **`tag.find(tag_name, attrs=attributes_dict)`**: Returns first matching node\n",
    "\n",
    "BeautifulSoup is a very powerful library -- much more info here: https://www.crummy.com/software/BeautifulSoup/bs4/doc/"
   ]
  },
  {
   "attachments": {},
   "cell_type": "markdown",
   "metadata": {},
   "source": [
    "### Let's practice some BeautifulSoup commands, "
   ]
  },
  {
   "attachments": {},
   "cell_type": "markdown",
   "metadata": {},
   "source": [
    "**Print a cleaned-up version of the raw HTML** \n",
    "\n",
    "Which function should we use from above?"
   ]
  },
  {
   "cell_type": "code",
   "execution_count": 22,
   "metadata": {},
   "outputs": [
    {
     "name": "stdout",
     "output_type": "stream",
     "text": [
      "<!DOCTYPE html>\n",
      "<html class=\"no-js\" lang=\"en-US\" prefix=\"og: http://ogp.me/ns#\">\n",
      " <head>\n",
      "  <script charset=\"utf-8\" src=\"https://web-static.archive.org/_static/js/bundle-playback.js?v=1B2M2Y8A\" type=\"text/javascript\">\n",
      "  </script>\n",
      "  <script charset=\"utf-8\" src=\"https://web-static.archive.org/_static/js/wombat.js?v=1B2M2Y8A\" type=\"text/javascript\">\n",
      "  </script>\n",
      "  <script>\n",
      "   window.RufflePlayer=window.RufflePlayer||{};window.RufflePlayer.config={\"autoplay\":\"on\",\"unmuteOverlay\":\"hidden\",\"showSwfDownl\n"
     ]
    }
   ],
   "source": [
    "pretty_soup = soup.prettify()\n",
    "print(pretty_soup[:500]) #what about negative indices?"
   ]
  },
  {
   "attachments": {},
   "cell_type": "markdown",
   "metadata": {},
   "source": [
    "**Find the first “title” object** "
   ]
  },
  {
   "cell_type": "code",
   "execution_count": 23,
   "metadata": {},
   "outputs": [
    {
     "data": {
      "text/plain": [
       "[<title>All Nobel Prizes</title>,\n",
       " <title id=\"search-mobile-title\">Close the search form</title>,\n",
       " <title id=\"logo-title\">The Nobel Prize</title>,\n",
       " <title id=\"desktop-search-title\">Close the search form</title>,\n",
       " <title id=\"submit-search-title-header\">Submit a search term</title>,\n",
       " <title id=\"aside-facebook-title\">Share on Facebook: All Nobel Prizes</title>,\n",
       " <title id=\"aside-twitter-title\">Tweet: All Nobel Prizes</title>,\n",
       " <title id=\"aside-email-title\">Share via Email: All Nobel Prizes</title>,\n",
       " <title id=\"instagram-title\">Follow Us on Instagram</title>,\n",
       " <title id=\"youtube-social-icon-title\">Youtube Icon</title>]"
      ]
     },
     "execution_count": 23,
     "metadata": {},
     "output_type": "execute_result"
    }
   ],
   "source": [
    "soup.select(\"title\")[:50]"
   ]
  },
  {
   "attachments": {},
   "cell_type": "markdown",
   "metadata": {},
   "source": [
    "**Extract the text of first “heading” object given by $<h3>$** "
   ]
  },
  {
   "cell_type": "code",
   "execution_count": 24,
   "metadata": {},
   "outputs": [],
   "source": [
    "soup.select_one('a h3')"
   ]
  },
  {
   "attachments": {},
   "cell_type": "markdown",
   "metadata": {},
   "source": [
    "## Extracting award data"
   ]
  },
  {
   "attachments": {},
   "cell_type": "markdown",
   "metadata": {},
   "source": [
    "Let's use the structure of the HTML document to extract the data we want.\n",
    "\n",
    "From inspecting the page in DevTools, we found that each award is in a `div` with a `by_year` class. Let's get all of them."
   ]
  },
  {
   "cell_type": "code",
   "execution_count": 25,
   "metadata": {},
   "outputs": [
    {
     "data": {
      "text/plain": [
       "640"
      ]
     },
     "execution_count": 25,
     "metadata": {},
     "output_type": "execute_result"
    }
   ],
   "source": [
    "award_nodes = soup.select('.by_year') #<div class =\"by year\"\n",
    "len(award_nodes)"
   ]
  },
  {
   "attachments": {},
   "cell_type": "markdown",
   "metadata": {},
   "source": [
    "Let's pull out an example."
   ]
  },
  {
   "cell_type": "code",
   "execution_count": 26,
   "metadata": {},
   "outputs": [],
   "source": [
    "award_node = award_nodes[200]"
   ]
  },
  {
   "cell_type": "code",
   "execution_count": 27,
   "metadata": {},
   "outputs": [
    {
     "data": {
      "text/plain": [
       "'<div class=\"by_year\">\\n <h3>\\n  <a href=\"http://web.archive.org/web/20180820111639/https://www.nobelprize.org/nobel_prizes/medicine/laureates/1985/\">\\n   The Nobel Prize in Physiology or Medicine 1985\\n  </a>\\n </h3>\\n <h6>\\n  <a href=\"http://web.archive.org/web/20180820111639/https://www.nobelprize.org/nobel_prizes/medicine/laureates/1985/brown-facts.html\">\\n   Michael S. Brown\\n  </a>\\n  and\\n  <a href=\"http://web.archive.org/web/20180820111639/https://www.nobelprize.org/nobel_prizes/medicine/laureates/1985/goldstein-facts.html\">\\n   Joseph L. Goldstein\\n  </a>\\n </h6>\\n <p>\\n  “for their discoveries concerning the regulation of cholesterol metabolism”\\n </p>\\n</div>\\n'"
      ]
     },
     "execution_count": 27,
     "metadata": {},
     "output_type": "execute_result"
    }
   ],
   "source": [
    "award_node.prettify()"
   ]
  },
  {
   "attachments": {},
   "cell_type": "markdown",
   "metadata": {},
   "source": [
    "We use the HTML library to render the HTML below"
   ]
  },
  {
   "cell_type": "code",
   "execution_count": 28,
   "metadata": {},
   "outputs": [
    {
     "data": {
      "text/html": [
       "<div class=\"by_year\">\n",
       " <h3>\n",
       "  <a href=\"http://web.archive.org/web/20180820111639/https://www.nobelprize.org/nobel_prizes/medicine/laureates/1985/\">\n",
       "   The Nobel Prize in Physiology or Medicine 1985\n",
       "  </a>\n",
       " </h3>\n",
       " <h6>\n",
       "  <a href=\"http://web.archive.org/web/20180820111639/https://www.nobelprize.org/nobel_prizes/medicine/laureates/1985/brown-facts.html\">\n",
       "   Michael S. Brown\n",
       "  </a>\n",
       "  and\n",
       "  <a href=\"http://web.archive.org/web/20180820111639/https://www.nobelprize.org/nobel_prizes/medicine/laureates/1985/goldstein-facts.html\">\n",
       "   Joseph L. Goldstein\n",
       "  </a>\n",
       " </h6>\n",
       " <p>\n",
       "  “for their discoveries concerning the regulation of cholesterol metabolism”\n",
       " </p>\n",
       "</div>\n"
      ],
      "text/plain": [
       "<IPython.core.display.HTML object>"
      ]
     },
     "execution_count": 28,
     "metadata": {},
     "output_type": "execute_result"
    }
   ],
   "source": [
    "HTML(award_node.prettify())"
   ]
  },
  {
   "attachments": {},
   "cell_type": "markdown",
   "metadata": {},
   "source": [
    "#### Let's practice getting data out of a BS node (award_node)"
   ]
  },
  {
   "attachments": {},
   "cell_type": "markdown",
   "metadata": {},
   "source": [
    "\n",
    "### The prize title\n",
    "\n",
    "Check the html from above and note that the prize title is in the h3 tag."
   ]
  },
  {
   "cell_type": "code",
   "execution_count": 29,
   "metadata": {},
   "outputs": [
    {
     "data": {
      "text/plain": [
       "'The Nobel Prize in Physiology or Medicine 1985'"
      ]
     },
     "execution_count": 29,
     "metadata": {},
     "output_type": "execute_result"
    }
   ],
   "source": [
    "award_node.select_one('h3').text"
   ]
  },
  {
   "attachments": {},
   "cell_type": "markdown",
   "metadata": {},
   "source": [
    "**How do we separate the year from the selected prize title?**"
   ]
  },
  {
   "cell_type": "code",
   "execution_count": 30,
   "metadata": {},
   "outputs": [
    {
     "data": {
      "text/plain": [
       "'1985'"
      ]
     },
     "execution_count": 30,
     "metadata": {},
     "output_type": "execute_result"
    }
   ],
   "source": [
    "award_node.select_one('h3').text[-4:]"
   ]
  },
  {
   "attachments": {},
   "cell_type": "markdown",
   "metadata": {},
   "source": [
    "**How do we drop the year from the title?**"
   ]
  },
  {
   "cell_type": "code",
   "execution_count": 31,
   "metadata": {},
   "outputs": [
    {
     "data": {
      "text/plain": [
       "'The Nobel Prize in Physiology or Medicine'"
      ]
     },
     "execution_count": 31,
     "metadata": {},
     "output_type": "execute_result"
    }
   ],
   "source": [
    "award_node.select_one('h3').text[:-4].strip()"
   ]
  },
  {
   "attachments": {},
   "cell_type": "markdown",
   "metadata": {},
   "source": [
    "Let's put them into functions:"
   ]
  },
  {
   "cell_type": "code",
   "execution_count": 32,
   "metadata": {},
   "outputs": [],
   "source": [
    "# wrap the above code inside a function\n",
    "def get_award_title(award_node):\n",
    "    return award_node.select_one('h3').text[:-4].strip()\n",
    "\n",
    "def get_award_year(award_node):\n",
    "    return int(award_node.select_one('h3').text[-4:])"
   ]
  },
  {
   "attachments": {},
   "cell_type": "markdown",
   "metadata": {},
   "source": [
    "**Make a list of titles for all awards**"
   ]
  },
  {
   "cell_type": "code",
   "execution_count": 33,
   "metadata": {},
   "outputs": [
    {
     "data": {
      "text/plain": [
       "['The Nobel Prize in Physics',\n",
       " 'The Nobel Prize in Chemistry',\n",
       " 'The Nobel Prize in Physiology or Medicine',\n",
       " 'The Nobel Prize in Literature',\n",
       " 'The Nobel Peace Prize',\n",
       " 'The Sveriges Riksbank Prize in Economic Sciences in Memory of Alfred Nobel',\n",
       " 'The Nobel Prize in Physics',\n",
       " 'The Nobel Prize in Chemistry',\n",
       " 'The Nobel Prize in Physiology or Medicine',\n",
       " 'The Nobel Prize in Literature',\n",
       " 'The Nobel Peace Prize',\n",
       " 'The Sveriges Riksbank Prize in Economic Sciences in Memory of Alfred Nobel',\n",
       " 'The Nobel Prize in Physics',\n",
       " 'The Nobel Prize in Chemistry',\n",
       " 'The Nobel Prize in Physiology or Medicine',\n",
       " 'The Nobel Prize in Literature',\n",
       " 'The Nobel Peace Prize',\n",
       " 'The Sveriges Riksbank Prize in Economic Sciences in Memory of Alfred Nobel',\n",
       " 'The Nobel Prize in Physics',\n",
       " 'The Nobel Prize in Chemistry',\n",
       " 'The Nobel Prize in Physiology or Medicine',\n",
       " 'The Nobel Prize in Literature',\n",
       " 'The Nobel Peace Prize',\n",
       " 'The Sveriges Riksbank Prize in Economic Sciences in Memory of Alfred Nobel',\n",
       " 'The Nobel Prize in Physics',\n",
       " 'The Nobel Prize in Chemistry',\n",
       " 'The Nobel Prize in Physiology or Medicine',\n",
       " 'The Nobel Prize in Literature',\n",
       " 'The Nobel Peace Prize',\n",
       " 'The Sveriges Riksbank Prize in Economic Sciences in Memory of Alfred Nobel',\n",
       " 'The Nobel Prize in Physics',\n",
       " 'The Nobel Prize in Chemistry',\n",
       " 'The Nobel Prize in Physiology or Medicine',\n",
       " 'The Nobel Prize in Literature',\n",
       " 'The Nobel Peace Prize',\n",
       " 'The Sveriges Riksbank Prize in Economic Sciences in Memory of Alfred Nobel',\n",
       " 'The Nobel Prize in Physics',\n",
       " 'The Nobel Prize in Chemistry',\n",
       " 'The Nobel Prize in Physiology or Medicine',\n",
       " 'The Nobel Prize in Literature',\n",
       " 'The Nobel Peace Prize',\n",
       " 'The Sveriges Riksbank Prize in Economic Sciences in Memory of Alfred Nobel',\n",
       " 'The Nobel Prize in Physics',\n",
       " 'The Nobel Prize in Chemistry',\n",
       " 'The Nobel Prize in Physiology or Medicine',\n",
       " 'The Nobel Prize in Literature',\n",
       " 'The Nobel Peace Prize',\n",
       " 'The Sveriges Riksbank Prize in Economic Sciences in Memory of Alfred Nobel',\n",
       " 'The Nobel Prize in Physics',\n",
       " 'The Nobel Prize in Chemistry']"
      ]
     },
     "execution_count": 33,
     "metadata": {},
     "output_type": "execute_result"
    }
   ],
   "source": [
    "#original code:\n",
    "list_awards = []\n",
    "for award_node in award_nodes:\n",
    "    list_awards.append(get_award_title(award_node))\n",
    "list_awards[:50]"
   ]
  },
  {
   "attachments": {},
   "cell_type": "markdown",
   "metadata": {},
   "source": [
    "**How can we make this into a oneliner?**\n",
    "\n",
    "We can use *list comprehension*\n",
    "```python\n",
    "l = [f(x) for x in some_list]\n",
    "```\n",
    "\n",
    "which is equivalent to \n",
    "```python\n",
    "l = []\n",
    "for x in some_list:\n",
    "    element = f(x)\n",
    "    l.append(element)\n",
    "```\n",
    "\n",
    "List comprehensions are explained in the slides from us linked above."
   ]
  },
  {
   "cell_type": "code",
   "execution_count": 34,
   "metadata": {
    "scrolled": true
   },
   "outputs": [
    {
     "data": {
      "text/plain": [
       "['The Nobel Prize in Physics',\n",
       " 'The Nobel Prize in Chemistry',\n",
       " 'The Nobel Prize in Physiology or Medicine',\n",
       " 'The Nobel Prize in Literature',\n",
       " 'The Nobel Peace Prize',\n",
       " 'The Sveriges Riksbank Prize in Economic Sciences in Memory of Alfred Nobel',\n",
       " 'The Nobel Prize in Physics',\n",
       " 'The Nobel Prize in Chemistry',\n",
       " 'The Nobel Prize in Physiology or Medicine',\n",
       " 'The Nobel Prize in Literature',\n",
       " 'The Nobel Peace Prize',\n",
       " 'The Sveriges Riksbank Prize in Economic Sciences in Memory of Alfred Nobel',\n",
       " 'The Nobel Prize in Physics',\n",
       " 'The Nobel Prize in Chemistry',\n",
       " 'The Nobel Prize in Physiology or Medicine',\n",
       " 'The Nobel Prize in Literature',\n",
       " 'The Nobel Peace Prize',\n",
       " 'The Sveriges Riksbank Prize in Economic Sciences in Memory of Alfred Nobel',\n",
       " 'The Nobel Prize in Physics',\n",
       " 'The Nobel Prize in Chemistry',\n",
       " 'The Nobel Prize in Physiology or Medicine',\n",
       " 'The Nobel Prize in Literature',\n",
       " 'The Nobel Peace Prize',\n",
       " 'The Sveriges Riksbank Prize in Economic Sciences in Memory of Alfred Nobel',\n",
       " 'The Nobel Prize in Physics',\n",
       " 'The Nobel Prize in Chemistry',\n",
       " 'The Nobel Prize in Physiology or Medicine',\n",
       " 'The Nobel Prize in Literature',\n",
       " 'The Nobel Peace Prize',\n",
       " 'The Sveriges Riksbank Prize in Economic Sciences in Memory of Alfred Nobel',\n",
       " 'The Nobel Prize in Physics',\n",
       " 'The Nobel Prize in Chemistry',\n",
       " 'The Nobel Prize in Physiology or Medicine',\n",
       " 'The Nobel Prize in Literature',\n",
       " 'The Nobel Peace Prize',\n",
       " 'The Sveriges Riksbank Prize in Economic Sciences in Memory of Alfred Nobel',\n",
       " 'The Nobel Prize in Physics',\n",
       " 'The Nobel Prize in Chemistry',\n",
       " 'The Nobel Prize in Physiology or Medicine',\n",
       " 'The Nobel Prize in Literature',\n",
       " 'The Nobel Peace Prize',\n",
       " 'The Sveriges Riksbank Prize in Economic Sciences in Memory of Alfred Nobel',\n",
       " 'The Nobel Prize in Physics',\n",
       " 'The Nobel Prize in Chemistry',\n",
       " 'The Nobel Prize in Physiology or Medicine',\n",
       " 'The Nobel Prize in Literature',\n",
       " 'The Nobel Peace Prize',\n",
       " 'The Sveriges Riksbank Prize in Economic Sciences in Memory of Alfred Nobel',\n",
       " 'The Nobel Prize in Physics',\n",
       " 'The Nobel Prize in Chemistry',\n",
       " 'The Nobel Prize in Physiology or Medicine',\n",
       " 'The Nobel Prize in Literature',\n",
       " 'The Nobel Peace Prize',\n",
       " 'The Sveriges Riksbank Prize in Economic Sciences in Memory of Alfred Nobel',\n",
       " 'The Nobel Prize in Physics',\n",
       " 'The Nobel Prize in Chemistry',\n",
       " 'The Nobel Prize in Physiology or Medicine',\n",
       " 'The Nobel Prize in Literature',\n",
       " 'The Nobel Peace Prize',\n",
       " 'The Sveriges Riksbank Prize in Economic Sciences in Memory of Alfred Nobel',\n",
       " 'The Nobel Prize in Physics',\n",
       " 'The Nobel Prize in Chemistry',\n",
       " 'The Nobel Prize in Physiology or Medicine',\n",
       " 'The Nobel Prize in Literature',\n",
       " 'The Nobel Peace Prize',\n",
       " 'The Sveriges Riksbank Prize in Economic Sciences in Memory of Alfred Nobel',\n",
       " 'The Nobel Prize in Physics',\n",
       " 'The Nobel Prize in Chemistry',\n",
       " 'The Nobel Prize in Physiology or Medicine',\n",
       " 'The Nobel Prize in Literature',\n",
       " 'The Nobel Peace Prize',\n",
       " 'The Sveriges Riksbank Prize in Economic Sciences in Memory of Alfred Nobel',\n",
       " 'The Nobel Prize in Physics',\n",
       " 'The Nobel Prize in Chemistry',\n",
       " 'The Nobel Prize in Physiology or Medicine',\n",
       " 'The Nobel Prize in Literature',\n",
       " 'The Nobel Peace Prize',\n",
       " 'The Sveriges Riksbank Prize in Economic Sciences in Memory of Alfred Nobel',\n",
       " 'The Nobel Prize in Physics',\n",
       " 'The Nobel Prize in Chemistry',\n",
       " 'The Nobel Prize in Physiology or Medicine',\n",
       " 'The Nobel Prize in Literature',\n",
       " 'The Nobel Peace Prize',\n",
       " 'The Sveriges Riksbank Prize in Economic Sciences in Memory of Alfred Nobel',\n",
       " 'The Nobel Prize in Physics',\n",
       " 'The Nobel Prize in Chemistry',\n",
       " 'The Nobel Prize in Physiology or Medicine',\n",
       " 'The Nobel Prize in Literature',\n",
       " 'The Nobel Peace Prize',\n",
       " 'The Sveriges Riksbank Prize in Economic Sciences in Memory of Alfred Nobel',\n",
       " 'The Nobel Prize in Physics',\n",
       " 'The Nobel Prize in Chemistry',\n",
       " 'The Nobel Prize in Physiology or Medicine',\n",
       " 'The Nobel Prize in Literature',\n",
       " 'The Nobel Peace Prize',\n",
       " 'The Sveriges Riksbank Prize in Economic Sciences in Memory of Alfred Nobel',\n",
       " 'The Nobel Prize in Physics',\n",
       " 'The Nobel Prize in Chemistry',\n",
       " 'The Nobel Prize in Physiology or Medicine',\n",
       " 'The Nobel Prize in Literature',\n",
       " 'The Nobel Peace Prize',\n",
       " 'The Sveriges Riksbank Prize in Economic Sciences in Memory of Alfred Nobel',\n",
       " 'The Nobel Prize in Physics',\n",
       " 'The Nobel Prize in Chemistry',\n",
       " 'The Nobel Prize in Physiology or Medicine',\n",
       " 'The Nobel Prize in Literature',\n",
       " 'The Nobel Peace Prize',\n",
       " 'The Sveriges Riksbank Prize in Economic Sciences in Memory of Alfred Nobel',\n",
       " 'The Nobel Prize in Physics',\n",
       " 'The Nobel Prize in Chemistry',\n",
       " 'The Nobel Prize in Physiology or Medicine',\n",
       " 'The Nobel Prize in Literature',\n",
       " 'The Nobel Peace Prize',\n",
       " 'The Sveriges Riksbank Prize in Economic Sciences in Memory of Alfred Nobel',\n",
       " 'The Nobel Prize in Physics',\n",
       " 'The Nobel Prize in Chemistry',\n",
       " 'The Nobel Prize in Physiology or Medicine',\n",
       " 'The Nobel Prize in Literature',\n",
       " 'The Nobel Peace Prize',\n",
       " 'The Sveriges Riksbank Prize in Economic Sciences in Memory of Alfred Nobel',\n",
       " 'The Nobel Prize in Physics',\n",
       " 'The Nobel Prize in Chemistry',\n",
       " 'The Nobel Prize in Physiology or Medicine',\n",
       " 'The Nobel Prize in Literature',\n",
       " 'The Nobel Peace Prize',\n",
       " 'The Sveriges Riksbank Prize in Economic Sciences in Memory of Alfred Nobel',\n",
       " 'The Nobel Prize in Physics',\n",
       " 'The Nobel Prize in Chemistry',\n",
       " 'The Nobel Prize in Physiology or Medicine',\n",
       " 'The Nobel Prize in Literature',\n",
       " 'The Nobel Peace Prize',\n",
       " 'The Sveriges Riksbank Prize in Economic Sciences in Memory of Alfred Nobel',\n",
       " 'The Nobel Prize in Physics',\n",
       " 'The Nobel Prize in Chemistry',\n",
       " 'The Nobel Prize in Physiology or Medicine',\n",
       " 'The Nobel Prize in Literature',\n",
       " 'The Nobel Peace Prize',\n",
       " 'The Sveriges Riksbank Prize in Economic Sciences in Memory of Alfred Nobel',\n",
       " 'The Nobel Prize in Physics',\n",
       " 'The Nobel Prize in Chemistry',\n",
       " 'The Nobel Prize in Physiology or Medicine',\n",
       " 'The Nobel Prize in Literature',\n",
       " 'The Nobel Peace Prize',\n",
       " 'The Sveriges Riksbank Prize in Economic Sciences in Memory of Alfred Nobel',\n",
       " 'The Nobel Prize in Physics',\n",
       " 'The Nobel Prize in Chemistry',\n",
       " 'The Nobel Prize in Physiology or Medicine',\n",
       " 'The Nobel Prize in Literature',\n",
       " 'The Nobel Peace Prize',\n",
       " 'The Sveriges Riksbank Prize in Economic Sciences in Memory of Alfred Nobel',\n",
       " 'The Nobel Prize in Physics',\n",
       " 'The Nobel Prize in Chemistry',\n",
       " 'The Nobel Prize in Physiology or Medicine',\n",
       " 'The Nobel Prize in Literature',\n",
       " 'The Nobel Peace Prize',\n",
       " 'The Sveriges Riksbank Prize in Economic Sciences in Memory of Alfred Nobel',\n",
       " 'The Nobel Prize in Physics',\n",
       " 'The Nobel Prize in Chemistry',\n",
       " 'The Nobel Prize in Physiology or Medicine',\n",
       " 'The Nobel Prize in Literature',\n",
       " 'The Nobel Peace Prize',\n",
       " 'The Sveriges Riksbank Prize in Economic Sciences in Memory of Alfred Nobel',\n",
       " 'The Nobel Prize in Physics',\n",
       " 'The Nobel Prize in Chemistry',\n",
       " 'The Nobel Prize in Physiology or Medicine',\n",
       " 'The Nobel Prize in Literature',\n",
       " 'The Nobel Peace Prize',\n",
       " 'The Sveriges Riksbank Prize in Economic Sciences in Memory of Alfred Nobel',\n",
       " 'The Nobel Prize in Physics',\n",
       " 'The Nobel Prize in Chemistry',\n",
       " 'The Nobel Prize in Physiology or Medicine',\n",
       " 'The Nobel Prize in Literature',\n",
       " 'The Nobel Peace Prize',\n",
       " 'The Sveriges Riksbank Prize in Economic Sciences in Memory of Alfred Nobel',\n",
       " 'The Nobel Prize in Physics',\n",
       " 'The Nobel Prize in Chemistry',\n",
       " 'The Nobel Prize in Physiology or Medicine',\n",
       " 'The Nobel Prize in Literature',\n",
       " 'The Nobel Peace Prize',\n",
       " 'The Sveriges Riksbank Prize in Economic Sciences in Memory of Alfred Nobel',\n",
       " 'The Nobel Prize in Physics',\n",
       " 'The Nobel Prize in Chemistry',\n",
       " 'The Nobel Prize in Physiology or Medicine',\n",
       " 'The Nobel Prize in Literature',\n",
       " 'The Nobel Peace Prize',\n",
       " 'The Sveriges Riksbank Prize in Economic Sciences in Memory of Alfred Nobel',\n",
       " 'The Nobel Prize in Physics',\n",
       " 'The Nobel Prize in Chemistry',\n",
       " 'The Nobel Prize in Physiology or Medicine',\n",
       " 'The Nobel Prize in Literature',\n",
       " 'The Nobel Peace Prize',\n",
       " 'The Sveriges Riksbank Prize in Economic Sciences in Memory of Alfred Nobel',\n",
       " 'The Nobel Prize in Physics',\n",
       " 'The Nobel Prize in Chemistry',\n",
       " 'The Nobel Prize in Physiology or Medicine',\n",
       " 'The Nobel Prize in Literature',\n",
       " 'The Nobel Peace Prize',\n",
       " 'The Sveriges Riksbank Prize in Economic Sciences in Memory of Alfred Nobel',\n",
       " 'The Nobel Prize in Physics',\n",
       " 'The Nobel Prize in Chemistry',\n",
       " 'The Nobel Prize in Physiology or Medicine',\n",
       " 'The Nobel Prize in Literature',\n",
       " 'The Nobel Peace Prize',\n",
       " 'The Sveriges Riksbank Prize in Economic Sciences in Memory of Alfred Nobel',\n",
       " 'The Nobel Prize in Physics',\n",
       " 'The Nobel Prize in Chemistry',\n",
       " 'The Nobel Prize in Physiology or Medicine',\n",
       " 'The Nobel Prize in Literature',\n",
       " 'The Nobel Peace Prize',\n",
       " 'The Sveriges Riksbank Prize in Economic Sciences in Memory of Alfred Nobel',\n",
       " 'The Nobel Prize in Physics',\n",
       " 'The Nobel Prize in Chemistry',\n",
       " 'The Nobel Prize in Physiology or Medicine',\n",
       " 'The Nobel Prize in Literature',\n",
       " 'The Nobel Peace Prize',\n",
       " 'The Sveriges Riksbank Prize in Economic Sciences in Memory of Alfred Nobel',\n",
       " 'The Nobel Prize in Physics',\n",
       " 'The Nobel Prize in Chemistry',\n",
       " 'The Nobel Prize in Physiology or Medicine',\n",
       " 'The Nobel Prize in Literature',\n",
       " 'The Nobel Peace Prize',\n",
       " 'The Sveriges Riksbank Prize in Economic Sciences in Memory of Alfred Nobel',\n",
       " 'The Nobel Prize in Physics',\n",
       " 'The Nobel Prize in Chemistry',\n",
       " 'The Nobel Prize in Physiology or Medicine',\n",
       " 'The Nobel Prize in Literature',\n",
       " 'The Nobel Peace Prize',\n",
       " 'The Sveriges Riksbank Prize in Economic Sciences in Memory of Alfred Nobel',\n",
       " 'The Nobel Prize in Physics',\n",
       " 'The Nobel Prize in Chemistry',\n",
       " 'The Nobel Prize in Physiology or Medicine',\n",
       " 'The Nobel Prize in Literature',\n",
       " 'The Nobel Peace Prize',\n",
       " 'The Sveriges Riksbank Prize in Economic Sciences in Memory of Alfred Nobel',\n",
       " 'The Nobel Prize in Physics',\n",
       " 'The Nobel Prize in Chemistry',\n",
       " 'The Nobel Prize in Physiology or Medicine',\n",
       " 'The Nobel Prize in Literature',\n",
       " 'The Nobel Peace Prize',\n",
       " 'The Sveriges Riksbank Prize in Economic Sciences in Memory of Alfred Nobel',\n",
       " 'The Nobel Prize in Physics',\n",
       " 'The Nobel Prize in Chemistry',\n",
       " 'The Nobel Prize in Physiology or Medicine',\n",
       " 'The Nobel Prize in Literature',\n",
       " 'The Nobel Peace Prize',\n",
       " 'The Sveriges Riksbank Prize in Economic Sciences in Memory of Alfred Nobel',\n",
       " 'The Nobel Prize in Physics',\n",
       " 'The Nobel Prize in Chemistry',\n",
       " 'The Nobel Prize in Physiology or Medicine',\n",
       " 'The Nobel Prize in Literature',\n",
       " 'The Nobel Peace Prize',\n",
       " 'The Sveriges Riksbank Prize in Economic Sciences in Memory of Alfred Nobel',\n",
       " 'The Nobel Prize in Physics',\n",
       " 'The Nobel Prize in Chemistry',\n",
       " 'The Nobel Prize in Physiology or Medicine',\n",
       " 'The Nobel Prize in Literature',\n",
       " 'The Nobel Peace Prize',\n",
       " 'The Sveriges Riksbank Prize in Economic Sciences in Memory of Alfred Nobel',\n",
       " 'The Nobel Prize in Physics',\n",
       " 'The Nobel Prize in Chemistry',\n",
       " 'The Nobel Prize in Physiology or Medicine',\n",
       " 'The Nobel Prize in Literature',\n",
       " 'The Nobel Peace Prize',\n",
       " 'The Sveriges Riksbank Prize in Economic Sciences in Memory of Alfred Nobel',\n",
       " 'The Nobel Prize in Physics',\n",
       " 'The Nobel Prize in Chemistry',\n",
       " 'The Nobel Prize in Physiology or Medicine',\n",
       " 'The Nobel Prize in Literature',\n",
       " 'The Nobel Peace Prize',\n",
       " 'The Sveriges Riksbank Prize in Economic Sciences in Memory of Alfred Nobel',\n",
       " 'The Nobel Prize in Physics',\n",
       " 'The Nobel Prize in Chemistry',\n",
       " 'The Nobel Prize in Physiology or Medicine',\n",
       " 'The Nobel Prize in Literature',\n",
       " 'The Nobel Peace Prize',\n",
       " 'The Sveriges Riksbank Prize in Economic Sciences in Memory of Alfred Nobel',\n",
       " 'The Nobel Prize in Physics',\n",
       " 'The Nobel Prize in Chemistry',\n",
       " 'The Nobel Prize in Physiology or Medicine',\n",
       " 'The Nobel Prize in Literature',\n",
       " 'The Nobel Peace Prize',\n",
       " 'The Sveriges Riksbank Prize in Economic Sciences in Memory of Alfred Nobel',\n",
       " 'The Nobel Prize in Physics',\n",
       " 'The Nobel Prize in Chemistry',\n",
       " 'The Nobel Prize in Physiology or Medicine',\n",
       " 'The Nobel Prize in Literature',\n",
       " 'The Nobel Peace Prize',\n",
       " 'The Sveriges Riksbank Prize in Economic Sciences in Memory of Alfred Nobel',\n",
       " 'The Nobel Prize in Physics',\n",
       " 'The Nobel Prize in Chemistry',\n",
       " 'The Nobel Prize in Physiology or Medicine',\n",
       " 'The Nobel Prize in Literature',\n",
       " 'The Nobel Peace Prize',\n",
       " 'The Sveriges Riksbank Prize in Economic Sciences in Memory of Alfred Nobel',\n",
       " 'The Nobel Prize in Physics',\n",
       " 'The Nobel Prize in Chemistry',\n",
       " 'The Nobel Prize in Physiology or Medicine',\n",
       " 'The Nobel Prize in Literature',\n",
       " 'The Nobel Peace Prize',\n",
       " 'The Sveriges Riksbank Prize in Economic Sciences in Memory of Alfred Nobel',\n",
       " 'The Nobel Prize in Physics',\n",
       " 'The Nobel Prize in Chemistry',\n",
       " 'The Nobel Prize in Physiology or Medicine',\n",
       " 'The Nobel Prize in Literature',\n",
       " 'The Nobel Peace Prize',\n",
       " 'The Nobel Prize in Physics',\n",
       " 'The Nobel Prize in Chemistry',\n",
       " 'The Nobel Prize in Physiology or Medicine',\n",
       " 'The Nobel Prize in Literature',\n",
       " 'The Nobel Peace Prize',\n",
       " 'The Nobel Prize in Physics',\n",
       " 'The Nobel Prize in Chemistry',\n",
       " 'The Nobel Prize in Physiology or Medicine',\n",
       " 'The Nobel Prize in Literature',\n",
       " 'The Nobel Peace Prize',\n",
       " 'The Nobel Prize in Physics',\n",
       " 'The Nobel Prize in Chemistry',\n",
       " 'The Nobel Prize in Physiology or Medicine',\n",
       " 'The Nobel Prize in Literature',\n",
       " 'The Nobel Peace Prize',\n",
       " 'The Nobel Prize in Physics',\n",
       " 'The Nobel Prize in Chemistry',\n",
       " 'The Nobel Prize in Physiology or Medicine',\n",
       " 'The Nobel Prize in Literature',\n",
       " 'The Nobel Peace Prize',\n",
       " 'The Nobel Prize in Physics',\n",
       " 'The Nobel Prize in Chemistry',\n",
       " 'The Nobel Prize in Physiology or Medicine',\n",
       " 'The Nobel Prize in Literature',\n",
       " 'The Nobel Peace Prize',\n",
       " 'The Nobel Prize in Physics',\n",
       " 'The Nobel Prize in Chemistry',\n",
       " 'The Nobel Prize in Physiology or Medicine',\n",
       " 'The Nobel Prize in Literature',\n",
       " 'The Nobel Peace Prize',\n",
       " 'The Nobel Prize in Physics',\n",
       " 'The Nobel Prize in Chemistry',\n",
       " 'The Nobel Prize in Physiology or Medicine',\n",
       " 'The Nobel Prize in Literature',\n",
       " 'The Nobel Peace Prize',\n",
       " 'The Nobel Prize in Physics',\n",
       " 'The Nobel Prize in Chemistry',\n",
       " 'The Nobel Prize in Physiology or Medicine',\n",
       " 'The Nobel Prize in Literature',\n",
       " 'The Nobel Peace Prize',\n",
       " 'The Nobel Prize in Physics',\n",
       " 'The Nobel Prize in Chemistry',\n",
       " 'The Nobel Prize in Physiology or Medicine',\n",
       " 'The Nobel Prize in Literature',\n",
       " 'The Nobel Peace Prize',\n",
       " 'The Nobel Prize in Physics',\n",
       " 'The Nobel Prize in Chemistry',\n",
       " 'The Nobel Prize in Physiology or Medicine',\n",
       " 'The Nobel Prize in Literature',\n",
       " 'The Nobel Peace Prize',\n",
       " 'The Nobel Prize in Physics',\n",
       " 'The Nobel Prize in Chemistry',\n",
       " 'The Nobel Prize in Physiology or Medicine',\n",
       " 'The Nobel Prize in Literature',\n",
       " 'The Nobel Peace Prize',\n",
       " 'The Nobel Prize in Physics',\n",
       " 'The Nobel Prize in Chemistry',\n",
       " 'The Nobel Prize in Physiology or Medicine',\n",
       " 'The Nobel Prize in Literature',\n",
       " 'The Nobel Peace Prize',\n",
       " 'The Nobel Prize in Physics',\n",
       " 'The Nobel Prize in Chemistry',\n",
       " 'The Nobel Prize in Physiology or Medicine',\n",
       " 'The Nobel Prize in Literature',\n",
       " 'The Nobel Peace Prize',\n",
       " 'The Nobel Prize in Physics',\n",
       " 'The Nobel Prize in Chemistry',\n",
       " 'The Nobel Prize in Physiology or Medicine',\n",
       " 'The Nobel Prize in Literature',\n",
       " 'The Nobel Peace Prize',\n",
       " 'The Nobel Prize in Physics',\n",
       " 'The Nobel Prize in Chemistry',\n",
       " 'The Nobel Prize in Physiology or Medicine',\n",
       " 'The Nobel Prize in Literature',\n",
       " 'The Nobel Peace Prize',\n",
       " 'The Nobel Prize in Physics',\n",
       " 'The Nobel Prize in Chemistry',\n",
       " 'The Nobel Prize in Physiology or Medicine',\n",
       " 'The Nobel Prize in Literature',\n",
       " 'The Nobel Peace Prize',\n",
       " 'The Nobel Prize in Physics',\n",
       " 'The Nobel Prize in Chemistry',\n",
       " 'The Nobel Prize in Physiology or Medicine',\n",
       " 'The Nobel Prize in Literature',\n",
       " 'The Nobel Peace Prize',\n",
       " 'The Nobel Prize in Physics',\n",
       " 'The Nobel Prize in Chemistry',\n",
       " 'The Nobel Prize in Physiology or Medicine',\n",
       " 'The Nobel Prize in Literature',\n",
       " 'The Nobel Peace Prize',\n",
       " 'The Nobel Prize in Physics',\n",
       " 'The Nobel Prize in Chemistry',\n",
       " 'The Nobel Prize in Physiology or Medicine',\n",
       " 'The Nobel Prize in Literature',\n",
       " 'The Nobel Peace Prize',\n",
       " 'The Nobel Prize in Physics',\n",
       " 'The Nobel Prize in Chemistry',\n",
       " 'The Nobel Prize in Physiology or Medicine',\n",
       " 'The Nobel Prize in Literature',\n",
       " 'The Nobel Peace Prize',\n",
       " 'The Nobel Prize in Physics',\n",
       " 'The Nobel Prize in Chemistry',\n",
       " 'The Nobel Prize in Physiology or Medicine',\n",
       " 'The Nobel Prize in Literature',\n",
       " 'The Nobel Peace Prize',\n",
       " 'The Nobel Prize in Physics',\n",
       " 'The Nobel Prize in Chemistry',\n",
       " 'The Nobel Prize in Physiology or Medicine',\n",
       " 'The Nobel Prize in Literature',\n",
       " 'The Nobel Peace Prize',\n",
       " 'The Nobel Prize in Physics',\n",
       " 'The Nobel Prize in Chemistry',\n",
       " 'The Nobel Prize in Physiology or Medicine',\n",
       " 'The Nobel Prize in Literature',\n",
       " 'The Nobel Peace Prize',\n",
       " 'The Nobel Prize in Physics',\n",
       " 'The Nobel Prize in Chemistry',\n",
       " 'The Nobel Prize in Physiology or Medicine',\n",
       " 'The Nobel Prize in Literature',\n",
       " 'The Nobel Peace Prize',\n",
       " 'The Nobel Prize in Physics',\n",
       " 'The Nobel Prize in Chemistry',\n",
       " 'The Nobel Prize in Physiology or Medicine',\n",
       " 'The Nobel Prize in Literature',\n",
       " 'The Nobel Peace Prize',\n",
       " 'The Nobel Prize in Physics',\n",
       " 'The Nobel Prize in Chemistry',\n",
       " 'The Nobel Prize in Physiology or Medicine',\n",
       " 'The Nobel Prize in Literature',\n",
       " 'The Nobel Peace Prize',\n",
       " 'The Nobel Prize in Physics',\n",
       " 'The Nobel Prize in Chemistry',\n",
       " 'The Nobel Prize in Physiology or Medicine',\n",
       " 'The Nobel Prize in Literature',\n",
       " 'The Nobel Peace Prize',\n",
       " 'The Nobel Prize in Physics',\n",
       " 'The Nobel Prize in Chemistry',\n",
       " 'The Nobel Prize in Physiology or Medicine',\n",
       " 'The Nobel Prize in Literature',\n",
       " 'The Nobel Peace Prize',\n",
       " 'The Nobel Prize in Physics',\n",
       " 'The Nobel Prize in Chemistry',\n",
       " 'The Nobel Prize in Physiology or Medicine',\n",
       " 'The Nobel Prize in Literature',\n",
       " 'The Nobel Peace Prize',\n",
       " 'The Nobel Prize in Physics',\n",
       " 'The Nobel Prize in Chemistry',\n",
       " 'The Nobel Prize in Physiology or Medicine',\n",
       " 'The Nobel Prize in Literature',\n",
       " 'The Nobel Peace Prize',\n",
       " 'The Nobel Prize in Physics',\n",
       " 'The Nobel Prize in Chemistry',\n",
       " 'The Nobel Prize in Physiology or Medicine',\n",
       " 'The Nobel Prize in Literature',\n",
       " 'The Nobel Peace Prize',\n",
       " 'The Nobel Prize in Physics',\n",
       " 'The Nobel Prize in Chemistry',\n",
       " 'The Nobel Prize in Physiology or Medicine',\n",
       " 'The Nobel Prize in Literature',\n",
       " 'The Nobel Peace Prize',\n",
       " 'The Nobel Prize in Physics',\n",
       " 'The Nobel Prize in Chemistry',\n",
       " 'The Nobel Prize in Physiology or Medicine',\n",
       " 'The Nobel Prize in Literature',\n",
       " 'The Nobel Peace Prize',\n",
       " 'The Nobel Prize in Physics',\n",
       " 'The Nobel Prize in Chemistry',\n",
       " 'The Nobel Prize in Physiology or Medicine',\n",
       " 'The Nobel Prize in Literature',\n",
       " 'The Nobel Peace Prize',\n",
       " 'The Nobel Prize in Physics',\n",
       " 'The Nobel Prize in Chemistry',\n",
       " 'The Nobel Prize in Physiology or Medicine',\n",
       " 'The Nobel Prize in Literature',\n",
       " 'The Nobel Peace Prize',\n",
       " 'The Nobel Prize in Physics',\n",
       " 'The Nobel Prize in Chemistry',\n",
       " 'The Nobel Prize in Physiology or Medicine',\n",
       " 'The Nobel Prize in Literature',\n",
       " 'The Nobel Peace Prize',\n",
       " 'The Nobel Prize in Physics',\n",
       " 'The Nobel Prize in Chemistry',\n",
       " 'The Nobel Prize in Physiology or Medicine',\n",
       " 'The Nobel Prize in Literature',\n",
       " 'The Nobel Peace Prize',\n",
       " 'The Nobel Prize in Physics',\n",
       " 'The Nobel Prize in Chemistry',\n",
       " 'The Nobel Prize in Physiology or Medicine',\n",
       " 'The Nobel Prize in Literature',\n",
       " 'The Nobel Peace Prize',\n",
       " 'The Nobel Prize in Physics',\n",
       " 'The Nobel Prize in Chemistry',\n",
       " 'The Nobel Prize in Physiology or Medicine',\n",
       " 'The Nobel Prize in Literature',\n",
       " 'The Nobel Peace Prize',\n",
       " 'The Nobel Prize in Physics',\n",
       " 'The Nobel Prize in Chemistry',\n",
       " 'The Nobel Prize in Physiology or Medicine',\n",
       " 'The Nobel Prize in Literature',\n",
       " 'The Nobel Peace Prize',\n",
       " 'The Nobel Prize in Physics',\n",
       " 'The Nobel Prize in Chemistry',\n",
       " 'The Nobel Prize in Physiology or Medicine',\n",
       " 'The Nobel Prize in Literature',\n",
       " 'The Nobel Peace Prize',\n",
       " 'The Nobel Prize in Physics',\n",
       " 'The Nobel Prize in Chemistry',\n",
       " 'The Nobel Prize in Physiology or Medicine',\n",
       " 'The Nobel Prize in Literature',\n",
       " 'The Nobel Peace Prize',\n",
       " 'The Nobel Prize in Physics',\n",
       " 'The Nobel Prize in Chemistry',\n",
       " 'The Nobel Prize in Physiology or Medicine',\n",
       " 'The Nobel Prize in Literature',\n",
       " 'The Nobel Peace Prize',\n",
       " 'The Nobel Prize in Physics',\n",
       " 'The Nobel Prize in Chemistry',\n",
       " 'The Nobel Prize in Physiology or Medicine',\n",
       " 'The Nobel Prize in Literature',\n",
       " 'The Nobel Peace Prize',\n",
       " 'The Nobel Prize in Physics',\n",
       " 'The Nobel Prize in Chemistry',\n",
       " 'The Nobel Prize in Physiology or Medicine',\n",
       " 'The Nobel Prize in Literature',\n",
       " 'The Nobel Peace Prize',\n",
       " 'The Nobel Prize in Physics',\n",
       " 'The Nobel Prize in Chemistry',\n",
       " 'The Nobel Prize in Physiology or Medicine',\n",
       " 'The Nobel Prize in Literature',\n",
       " 'The Nobel Peace Prize',\n",
       " 'The Nobel Prize in Physics',\n",
       " 'The Nobel Prize in Chemistry',\n",
       " 'The Nobel Prize in Physiology or Medicine',\n",
       " 'The Nobel Prize in Literature',\n",
       " 'The Nobel Peace Prize',\n",
       " 'The Nobel Prize in Physics',\n",
       " 'The Nobel Prize in Chemistry',\n",
       " 'The Nobel Prize in Physiology or Medicine',\n",
       " 'The Nobel Prize in Literature',\n",
       " 'The Nobel Peace Prize',\n",
       " 'The Nobel Prize in Physics',\n",
       " 'The Nobel Prize in Chemistry',\n",
       " 'The Nobel Prize in Physiology or Medicine',\n",
       " 'The Nobel Prize in Literature',\n",
       " 'The Nobel Peace Prize',\n",
       " 'The Nobel Prize in Physics',\n",
       " 'The Nobel Prize in Chemistry',\n",
       " 'The Nobel Prize in Physiology or Medicine',\n",
       " 'The Nobel Prize in Literature',\n",
       " 'The Nobel Peace Prize',\n",
       " 'The Nobel Prize in Physics',\n",
       " 'The Nobel Prize in Chemistry',\n",
       " 'The Nobel Prize in Physiology or Medicine',\n",
       " 'The Nobel Prize in Literature',\n",
       " 'The Nobel Peace Prize',\n",
       " 'The Nobel Prize in Physics',\n",
       " 'The Nobel Prize in Chemistry',\n",
       " 'The Nobel Prize in Physiology or Medicine',\n",
       " 'The Nobel Prize in Literature',\n",
       " 'The Nobel Peace Prize',\n",
       " 'The Nobel Prize in Physics',\n",
       " 'The Nobel Prize in Chemistry',\n",
       " 'The Nobel Prize in Physiology or Medicine',\n",
       " 'The Nobel Prize in Literature',\n",
       " 'The Nobel Peace Prize',\n",
       " 'The Nobel Prize in Physics',\n",
       " 'The Nobel Prize in Chemistry',\n",
       " 'The Nobel Prize in Physiology or Medicine',\n",
       " 'The Nobel Prize in Literature',\n",
       " 'The Nobel Peace Prize',\n",
       " 'The Nobel Prize in Physics',\n",
       " 'The Nobel Prize in Chemistry',\n",
       " 'The Nobel Prize in Physiology or Medicine',\n",
       " 'The Nobel Prize in Literature',\n",
       " 'The Nobel Peace Prize',\n",
       " 'The Nobel Prize in Physics',\n",
       " 'The Nobel Prize in Chemistry',\n",
       " 'The Nobel Prize in Physiology or Medicine',\n",
       " 'The Nobel Prize in Literature',\n",
       " 'The Nobel Peace Prize',\n",
       " 'The Nobel Prize in Physics',\n",
       " 'The Nobel Prize in Chemistry',\n",
       " 'The Nobel Prize in Physiology or Medicine',\n",
       " 'The Nobel Prize in Literature',\n",
       " 'The Nobel Peace Prize',\n",
       " 'The Nobel Prize in Physics',\n",
       " 'The Nobel Prize in Chemistry',\n",
       " 'The Nobel Prize in Physiology or Medicine',\n",
       " 'The Nobel Prize in Literature',\n",
       " 'The Nobel Peace Prize',\n",
       " 'The Nobel Prize in Physics',\n",
       " 'The Nobel Prize in Chemistry',\n",
       " 'The Nobel Prize in Physiology or Medicine',\n",
       " 'The Nobel Prize in Literature',\n",
       " 'The Nobel Peace Prize',\n",
       " 'The Nobel Prize in Physics',\n",
       " 'The Nobel Prize in Chemistry',\n",
       " 'The Nobel Prize in Physiology or Medicine',\n",
       " 'The Nobel Prize in Literature',\n",
       " 'The Nobel Peace Prize',\n",
       " 'The Nobel Prize in Physics',\n",
       " 'The Nobel Prize in Chemistry',\n",
       " 'The Nobel Prize in Physiology or Medicine',\n",
       " 'The Nobel Prize in Literature',\n",
       " 'The Nobel Peace Prize',\n",
       " 'The Nobel Prize in Physics',\n",
       " 'The Nobel Prize in Chemistry',\n",
       " 'The Nobel Prize in Physiology or Medicine',\n",
       " 'The Nobel Prize in Literature',\n",
       " 'The Nobel Peace Prize',\n",
       " 'The Nobel Prize in Physics',\n",
       " 'The Nobel Prize in Chemistry',\n",
       " 'The Nobel Prize in Physiology or Medicine',\n",
       " 'The Nobel Prize in Literature',\n",
       " 'The Nobel Peace Prize',\n",
       " 'The Nobel Prize in Physics',\n",
       " 'The Nobel Prize in Chemistry',\n",
       " 'The Nobel Prize in Physiology or Medicine',\n",
       " 'The Nobel Prize in Literature',\n",
       " 'The Nobel Peace Prize',\n",
       " 'The Nobel Prize in Physics',\n",
       " 'The Nobel Prize in Chemistry',\n",
       " 'The Nobel Prize in Physiology or Medicine',\n",
       " 'The Nobel Prize in Literature',\n",
       " 'The Nobel Peace Prize',\n",
       " 'The Nobel Prize in Physics',\n",
       " 'The Nobel Prize in Chemistry',\n",
       " 'The Nobel Prize in Physiology or Medicine',\n",
       " 'The Nobel Prize in Literature',\n",
       " 'The Nobel Peace Prize',\n",
       " 'The Nobel Prize in Physics',\n",
       " 'The Nobel Prize in Chemistry',\n",
       " 'The Nobel Prize in Physiology or Medicine',\n",
       " 'The Nobel Prize in Literature',\n",
       " 'The Nobel Peace Prize']"
      ]
     },
     "execution_count": 34,
     "metadata": {},
     "output_type": "execute_result"
    }
   ],
   "source": [
    "# (TODO) use list comprehension to get a list of titles\n",
    "[get_award_title(award_node) for award_node in award_nodes ]\n"
   ]
  },
  {
   "attachments": {},
   "cell_type": "markdown",
   "metadata": {},
   "source": [
    "### The recipients\n",
    "\n",
    "Check the html from above and note that the prize title is in the h6 a selector.\n",
    "\n"
   ]
  },
  {
   "cell_type": "code",
   "execution_count": 35,
   "metadata": {},
   "outputs": [
    {
     "data": {
      "text/plain": [
       "[<a href=\"http://web.archive.org/web/20180820111639/https://www.nobelprize.org/nobel_prizes/peace/laureates/1901/dunant-facts.html\">Jean Henry Dunant</a>,\n",
       " <a href=\"http://web.archive.org/web/20180820111639/https://www.nobelprize.org/nobel_prizes/peace/laureates/1901/passy-facts.html\">Frédéric Passy</a>]"
      ]
     },
     "execution_count": 35,
     "metadata": {},
     "output_type": "execute_result"
    }
   ],
   "source": [
    "award_node.select('h6 a')"
   ]
  },
  {
   "attachments": {},
   "cell_type": "markdown",
   "metadata": {},
   "source": [
    "**How do we handle there being more than one?**"
   ]
  },
  {
   "cell_type": "code",
   "execution_count": 36,
   "metadata": {},
   "outputs": [
    {
     "data": {
      "text/plain": [
       "['Jean Henry Dunant', 'Frédéric Passy']"
      ]
     },
     "execution_count": 36,
     "metadata": {},
     "output_type": "execute_result"
    }
   ],
   "source": [
    "[node.text for node in award_node.select('h6 a')]"
   ]
  },
  {
   "attachments": {},
   "cell_type": "markdown",
   "metadata": {},
   "source": [
    "Let's encapsulate this process into a function and make it into a function."
   ]
  },
  {
   "cell_type": "code",
   "execution_count": 37,
   "metadata": {},
   "outputs": [],
   "source": [
    "def get_recipients(award_node):\n",
    "    return [node.text for node in award_node.select('h6 a')]"
   ]
  },
  {
   "attachments": {},
   "cell_type": "markdown",
   "metadata": {},
   "source": [
    "We'll leave them as a list for now, to return to this later.\n",
    "\n",
    "***This is how you would get the links: (Relevant for the homework)***"
   ]
  },
  {
   "cell_type": "code",
   "execution_count": 38,
   "metadata": {},
   "outputs": [
    {
     "data": {
      "text/plain": [
       "['http://web.archive.org/web/20180820111639/https://www.nobelprize.org/nobel_prizes/peace/laureates/1901/dunant-facts.html',\n",
       " 'http://web.archive.org/web/20180820111639/https://www.nobelprize.org/nobel_prizes/peace/laureates/1901/passy-facts.html']"
      ]
     },
     "execution_count": 38,
     "metadata": {},
     "output_type": "execute_result"
    }
   ],
   "source": [
    "[state_node.get(\"href\") for state_node in award_node.select('h6 a')]"
   ]
  },
  {
   "attachments": {},
   "cell_type": "markdown",
   "metadata": {},
   "source": [
    "### The prize \"motivation\"\n",
    "\n",
    "**How would you get the 'motivation'/reason of the prize from the following ```award_node```?**"
   ]
  },
  {
   "cell_type": "code",
   "execution_count": 39,
   "metadata": {},
   "outputs": [
    {
     "data": {
      "text/plain": [
       "<div class=\"by_year\">\n",
       "<h3><a href=\"http://web.archive.org/web/20180820111639/https://www.nobelprize.org/nobel_prizes/medicine/laureates/1985/\">The Nobel Prize in Physiology or Medicine 1985</a></h3>\n",
       "<h6><a href=\"http://web.archive.org/web/20180820111639/https://www.nobelprize.org/nobel_prizes/medicine/laureates/1985/brown-facts.html\">Michael S. Brown</a> and <a href=\"http://web.archive.org/web/20180820111639/https://www.nobelprize.org/nobel_prizes/medicine/laureates/1985/goldstein-facts.html\">Joseph L. Goldstein</a></h6>\n",
       "<p>“for their discoveries concerning the regulation of cholesterol metabolism”</p>\n",
       "</div>"
      ]
     },
     "execution_count": 39,
     "metadata": {},
     "output_type": "execute_result"
    }
   ],
   "source": [
    "award_node = award_nodes[200]\n",
    "award_node"
   ]
  },
  {
   "cell_type": "code",
   "execution_count": 40,
   "metadata": {},
   "outputs": [
    {
     "name": "stdout",
     "output_type": "stream",
     "text": [
      "“for their discoveries concerning the regulation of cholesterol metabolism”\n"
     ]
    }
   ],
   "source": [
    "print(award_node.select('p')[0].text);"
   ]
  },
  {
   "attachments": {},
   "cell_type": "markdown",
   "metadata": {},
   "source": [
    "Putting everything into functions: "
   ]
  },
  {
   "cell_type": "code",
   "execution_count": 41,
   "metadata": {},
   "outputs": [],
   "source": [
    "def get_award_motivation(award_node):\n",
    "    award_node = award_node.select_one('p')\n",
    "    if not award_node: #0, [], None, and {} all default to False in a python conditional statement.\n",
    "        return None\n",
    "    return award_node.text "
   ]
  },
  {
   "attachments": {},
   "cell_type": "markdown",
   "metadata": {},
   "source": [
    "## Let's create a Pandas dataframe\n",
    "\n",
    "Next, we parse the collected data and create a `pandas.DataFrame`. A DataFrame is like a table, where each row corresponds to a data entry and each column corresponds to a feature. Once we have a DataFrame, we can easily export it to our disk in CSV, JSON, or other formats.\n",
    "\n",
    "The easiest way to create a DataFrame is to build a list of dictionaries. Dictionaries are a pre-requisite for this lab. Refer to the slides from us [here](references/Dictionaries.pdf) for a better understanding.\n",
    "\n",
    "Each entry (dict) in the list is a data point, where keys are column names in the table. Let's see it in action."
   ]
  },
  {
   "cell_type": "code",
   "execution_count": 42,
   "metadata": {},
   "outputs": [
    {
     "data": {
      "text/plain": [
       "[{'title': 'The Nobel Prize in Physics',\n",
       "  'year': 2018,\n",
       "  'recipients': [],\n",
       "  'num_recipients': 0,\n",
       "  'motivation': 'The 2018 Nobel Prize in Physics has not been awarded yet. It will be announced on Tuesday 2 October, 11:45 a.m. at the earliest.'},\n",
       " {'title': 'The Nobel Prize in Chemistry',\n",
       "  'year': 2018,\n",
       "  'recipients': [],\n",
       "  'num_recipients': 0,\n",
       "  'motivation': 'The 2018 Nobel Prize in Chemistry has not been awarded yet. It will be announced on Wednesday 3 October, 11:45 a.m. at the earliest.'}]"
      ]
     },
     "execution_count": 42,
     "metadata": {},
     "output_type": "execute_result"
    }
   ],
   "source": [
    "awards = []\n",
    "for award_node in soup.select('.by_year'):\n",
    "    recipients = get_recipients(award_node)\n",
    "    \n",
    "    # Initialize the dictionary\n",
    "    award = {} #{key: value}\n",
    "    \n",
    "    # Call `get_award_title` to get the title of award_node\n",
    "    award['title'] = get_award_title(award_node)\n",
    "    # Call `get_award_title` to get the year of award_node\n",
    "    award['year'] = get_award_year(award_node)\n",
    "    # Call `get_recipients` to get the list of recipients of award_node\n",
    "    award['recipients'] = recipients\n",
    "    # Count number of recipients using the built-in `len()` function\n",
    "    award['num_recipients'] = len(recipients)\n",
    "    # (TODO) call `get_award_motivation` to get the motivation of award_node\n",
    "    award['motivation'] = get_award_motivation(award_node)\n",
    "    \n",
    "    awards.append(award)\n",
    "awards[0:2]"
   ]
  },
  {
   "cell_type": "code",
   "execution_count": 43,
   "metadata": {},
   "outputs": [],
   "source": [
    "# (TODO) convert the list of dictionaries to a pandas DataFrame\n",
    "df_awards_raw = pd.DataFrame(awards)\n"
   ]
  },
  {
   "cell_type": "code",
   "execution_count": 44,
   "metadata": {},
   "outputs": [
    {
     "data": {
      "text/html": [
       "<div>\n",
       "<style scoped>\n",
       "    .dataframe tbody tr th:only-of-type {\n",
       "        vertical-align: middle;\n",
       "    }\n",
       "\n",
       "    .dataframe tbody tr th {\n",
       "        vertical-align: top;\n",
       "    }\n",
       "\n",
       "    .dataframe thead th {\n",
       "        text-align: right;\n",
       "    }\n",
       "</style>\n",
       "<table border=\"1\" class=\"dataframe\">\n",
       "  <thead>\n",
       "    <tr style=\"text-align: right;\">\n",
       "      <th></th>\n",
       "      <th>title</th>\n",
       "      <th>year</th>\n",
       "      <th>recipients</th>\n",
       "      <th>num_recipients</th>\n",
       "      <th>motivation</th>\n",
       "    </tr>\n",
       "  </thead>\n",
       "  <tbody>\n",
       "    <tr>\n",
       "      <th>0</th>\n",
       "      <td>The Nobel Prize in Physics</td>\n",
       "      <td>2018</td>\n",
       "      <td>[]</td>\n",
       "      <td>0</td>\n",
       "      <td>The 2018 Nobel Prize in Physics has not been a...</td>\n",
       "    </tr>\n",
       "    <tr>\n",
       "      <th>1</th>\n",
       "      <td>The Nobel Prize in Chemistry</td>\n",
       "      <td>2018</td>\n",
       "      <td>[]</td>\n",
       "      <td>0</td>\n",
       "      <td>The 2018 Nobel Prize in Chemistry has not been...</td>\n",
       "    </tr>\n",
       "    <tr>\n",
       "      <th>2</th>\n",
       "      <td>The Nobel Prize in Physiology or Medicine</td>\n",
       "      <td>2018</td>\n",
       "      <td>[]</td>\n",
       "      <td>0</td>\n",
       "      <td>The 2018 Nobel Prize in Physiology or Medicine...</td>\n",
       "    </tr>\n",
       "    <tr>\n",
       "      <th>3</th>\n",
       "      <td>The Nobel Prize in Literature</td>\n",
       "      <td>2018</td>\n",
       "      <td>[]</td>\n",
       "      <td>0</td>\n",
       "      <td>The 2018 Nobel Prize in Literature has been po...</td>\n",
       "    </tr>\n",
       "    <tr>\n",
       "      <th>4</th>\n",
       "      <td>The Nobel Peace Prize</td>\n",
       "      <td>2018</td>\n",
       "      <td>[]</td>\n",
       "      <td>0</td>\n",
       "      <td>The 2018 Nobel Peace Prize has not been awarde...</td>\n",
       "    </tr>\n",
       "    <tr>\n",
       "      <th>...</th>\n",
       "      <td>...</td>\n",
       "      <td>...</td>\n",
       "      <td>...</td>\n",
       "      <td>...</td>\n",
       "      <td>...</td>\n",
       "    </tr>\n",
       "    <tr>\n",
       "      <th>635</th>\n",
       "      <td>The Nobel Prize in Physics</td>\n",
       "      <td>1901</td>\n",
       "      <td>[Wilhelm Conrad Röntgen]</td>\n",
       "      <td>1</td>\n",
       "      <td>“in recognition of the extraordinary services ...</td>\n",
       "    </tr>\n",
       "    <tr>\n",
       "      <th>636</th>\n",
       "      <td>The Nobel Prize in Chemistry</td>\n",
       "      <td>1901</td>\n",
       "      <td>[Jacobus Henricus van ‘t Hoff]</td>\n",
       "      <td>1</td>\n",
       "      <td>“in recognition of the extraordinary services ...</td>\n",
       "    </tr>\n",
       "    <tr>\n",
       "      <th>637</th>\n",
       "      <td>The Nobel Prize in Physiology or Medicine</td>\n",
       "      <td>1901</td>\n",
       "      <td>[Emil Adolf von Behring]</td>\n",
       "      <td>1</td>\n",
       "      <td>“for his work on serum therapy, especially its...</td>\n",
       "    </tr>\n",
       "    <tr>\n",
       "      <th>638</th>\n",
       "      <td>The Nobel Prize in Literature</td>\n",
       "      <td>1901</td>\n",
       "      <td>[Sully Prudhomme]</td>\n",
       "      <td>1</td>\n",
       "      <td>“in special recognition of his poetic composit...</td>\n",
       "    </tr>\n",
       "    <tr>\n",
       "      <th>639</th>\n",
       "      <td>The Nobel Peace Prize</td>\n",
       "      <td>1901</td>\n",
       "      <td>[Jean Henry Dunant, Frédéric Passy]</td>\n",
       "      <td>2</td>\n",
       "      <td>None</td>\n",
       "    </tr>\n",
       "  </tbody>\n",
       "</table>\n",
       "<p>640 rows × 5 columns</p>\n",
       "</div>"
      ],
      "text/plain": [
       "                                         title  year  \\\n",
       "0                   The Nobel Prize in Physics  2018   \n",
       "1                 The Nobel Prize in Chemistry  2018   \n",
       "2    The Nobel Prize in Physiology or Medicine  2018   \n",
       "3                The Nobel Prize in Literature  2018   \n",
       "4                        The Nobel Peace Prize  2018   \n",
       "..                                         ...   ...   \n",
       "635                 The Nobel Prize in Physics  1901   \n",
       "636               The Nobel Prize in Chemistry  1901   \n",
       "637  The Nobel Prize in Physiology or Medicine  1901   \n",
       "638              The Nobel Prize in Literature  1901   \n",
       "639                      The Nobel Peace Prize  1901   \n",
       "\n",
       "                              recipients  num_recipients  \\\n",
       "0                                     []               0   \n",
       "1                                     []               0   \n",
       "2                                     []               0   \n",
       "3                                     []               0   \n",
       "4                                     []               0   \n",
       "..                                   ...             ...   \n",
       "635             [Wilhelm Conrad Röntgen]               1   \n",
       "636       [Jacobus Henricus van ‘t Hoff]               1   \n",
       "637             [Emil Adolf von Behring]               1   \n",
       "638                    [Sully Prudhomme]               1   \n",
       "639  [Jean Henry Dunant, Frédéric Passy]               2   \n",
       "\n",
       "                                            motivation  \n",
       "0    The 2018 Nobel Prize in Physics has not been a...  \n",
       "1    The 2018 Nobel Prize in Chemistry has not been...  \n",
       "2    The 2018 Nobel Prize in Physiology or Medicine...  \n",
       "3    The 2018 Nobel Prize in Literature has been po...  \n",
       "4    The 2018 Nobel Peace Prize has not been awarde...  \n",
       "..                                                 ...  \n",
       "635  “in recognition of the extraordinary services ...  \n",
       "636  “in recognition of the extraordinary services ...  \n",
       "637  “for his work on serum therapy, especially its...  \n",
       "638  “in special recognition of his poetic composit...  \n",
       "639                                               None  \n",
       "\n",
       "[640 rows x 5 columns]"
      ]
     },
     "execution_count": 44,
     "metadata": {},
     "output_type": "execute_result"
    }
   ],
   "source": [
    "df_awards_raw\n"
   ]
  },
  {
   "attachments": {},
   "cell_type": "markdown",
   "metadata": {},
   "source": [
    "To export the data to a local CSV file, let's used the `.to_csv()` method. After you run the follwing code, you can find a `scraped_awards.csv` in the same directory with this notebook. You can open the notebook using Microsoft Excel or Numbers, but make sure you are using the UTF-8 codec."
   ]
  },
  {
   "cell_type": "code",
   "execution_count": 45,
   "metadata": {},
   "outputs": [],
   "source": [
    "df_awards_raw.to_csv('scraped_awards.csv')\n"
   ]
  },
  {
   "attachments": {},
   "cell_type": "markdown",
   "metadata": {},
   "source": [
    "### Some quick EDA."
   ]
  },
  {
   "cell_type": "code",
   "execution_count": 46,
   "metadata": {},
   "outputs": [
    {
     "name": "stdout",
     "output_type": "stream",
     "text": [
      "<class 'pandas.core.frame.DataFrame'>\n",
      "RangeIndex: 640 entries, 0 to 639\n",
      "Data columns (total 5 columns):\n",
      " #   Column          Non-Null Count  Dtype \n",
      "---  ------          --------------  ----- \n",
      " 0   title           640 non-null    object\n",
      " 1   year            640 non-null    int64 \n",
      " 2   recipients      640 non-null    object\n",
      " 3   num_recipients  640 non-null    int64 \n",
      " 4   motivation      571 non-null    object\n",
      "dtypes: int64(2), object(3)\n",
      "memory usage: 25.1+ KB\n"
     ]
    }
   ],
   "source": [
    "df_awards_raw.info()\n"
   ]
  },
  {
   "cell_type": "code",
   "execution_count": 47,
   "metadata": {},
   "outputs": [
    {
     "data": {
      "text/plain": [
       "1901"
      ]
     },
     "execution_count": 47,
     "metadata": {},
     "output_type": "execute_result"
    }
   ],
   "source": [
    "df_awards_raw.year.min()\n"
   ]
  },
  {
   "attachments": {},
   "cell_type": "markdown",
   "metadata": {},
   "source": [
    "**What is going on with the recipients column?**"
   ]
  },
  {
   "cell_type": "code",
   "execution_count": 48,
   "metadata": {},
   "outputs": [
    {
     "data": {
      "text/html": [
       "<div>\n",
       "<style scoped>\n",
       "    .dataframe tbody tr th:only-of-type {\n",
       "        vertical-align: middle;\n",
       "    }\n",
       "\n",
       "    .dataframe tbody tr th {\n",
       "        vertical-align: top;\n",
       "    }\n",
       "\n",
       "    .dataframe thead th {\n",
       "        text-align: right;\n",
       "    }\n",
       "</style>\n",
       "<table border=\"1\" class=\"dataframe\">\n",
       "  <thead>\n",
       "    <tr style=\"text-align: right;\">\n",
       "      <th></th>\n",
       "      <th>title</th>\n",
       "      <th>year</th>\n",
       "      <th>recipients</th>\n",
       "      <th>num_recipients</th>\n",
       "      <th>motivation</th>\n",
       "    </tr>\n",
       "  </thead>\n",
       "  <tbody>\n",
       "    <tr>\n",
       "      <th>0</th>\n",
       "      <td>The Nobel Prize in Physics</td>\n",
       "      <td>2018</td>\n",
       "      <td>[]</td>\n",
       "      <td>0</td>\n",
       "      <td>The 2018 Nobel Prize in Physics has not been a...</td>\n",
       "    </tr>\n",
       "    <tr>\n",
       "      <th>1</th>\n",
       "      <td>The Nobel Prize in Chemistry</td>\n",
       "      <td>2018</td>\n",
       "      <td>[]</td>\n",
       "      <td>0</td>\n",
       "      <td>The 2018 Nobel Prize in Chemistry has not been...</td>\n",
       "    </tr>\n",
       "    <tr>\n",
       "      <th>2</th>\n",
       "      <td>The Nobel Prize in Physiology or Medicine</td>\n",
       "      <td>2018</td>\n",
       "      <td>[]</td>\n",
       "      <td>0</td>\n",
       "      <td>The 2018 Nobel Prize in Physiology or Medicine...</td>\n",
       "    </tr>\n",
       "    <tr>\n",
       "      <th>3</th>\n",
       "      <td>The Nobel Prize in Literature</td>\n",
       "      <td>2018</td>\n",
       "      <td>[]</td>\n",
       "      <td>0</td>\n",
       "      <td>The 2018 Nobel Prize in Literature has been po...</td>\n",
       "    </tr>\n",
       "    <tr>\n",
       "      <th>4</th>\n",
       "      <td>The Nobel Peace Prize</td>\n",
       "      <td>2018</td>\n",
       "      <td>[]</td>\n",
       "      <td>0</td>\n",
       "      <td>The 2018 Nobel Peace Prize has not been awarde...</td>\n",
       "    </tr>\n",
       "  </tbody>\n",
       "</table>\n",
       "</div>"
      ],
      "text/plain": [
       "                                       title  year recipients  num_recipients  \\\n",
       "0                 The Nobel Prize in Physics  2018         []               0   \n",
       "1               The Nobel Prize in Chemistry  2018         []               0   \n",
       "2  The Nobel Prize in Physiology or Medicine  2018         []               0   \n",
       "3              The Nobel Prize in Literature  2018         []               0   \n",
       "4                      The Nobel Peace Prize  2018         []               0   \n",
       "\n",
       "                                          motivation  \n",
       "0  The 2018 Nobel Prize in Physics has not been a...  \n",
       "1  The 2018 Nobel Prize in Chemistry has not been...  \n",
       "2  The 2018 Nobel Prize in Physiology or Medicine...  \n",
       "3  The 2018 Nobel Prize in Literature has been po...  \n",
       "4  The 2018 Nobel Peace Prize has not been awarde...  "
      ]
     },
     "execution_count": 48,
     "metadata": {},
     "output_type": "execute_result"
    }
   ],
   "source": [
    "df_awards_raw.head()\n"
   ]
  },
  {
   "attachments": {},
   "cell_type": "markdown",
   "metadata": {},
   "source": [
    "### Visualizing Number of Recipients by Year\n",
    "\n",
    "Finally, we visualize the number of recipients for each Nobel Prize by year. Don't worry about the syntax for the moment, you'll get used to it in future exercise."
   ]
  },
  {
   "cell_type": "code",
   "execution_count": 49,
   "metadata": {},
   "outputs": [
    {
     "data": {
      "image/png": "[encoded data removed]",
      "text/plain": [
       "<Figure size 2000x4400 with 6 Axes>"
      ]
     },
     "metadata": {},
     "output_type": "display_data"
    }
   ],
   "source": [
    "titles = set(df_awards_raw.title)\n",
    "fig = plt.figure(figsize=(20, 44), dpi=100)\n",
    "axes = fig.subplots(len(titles), 1)\n",
    "\n",
    "for title, ax in zip(titles, axes):\n",
    "    # (TODO) select entries whose titles match `title`\n",
    "    plot_df = df_awards_raw[df_awards_raw.title == title]\n",
    "    # (TODO) plot the selected entries using bar-plot, where x-axis is year and y-axis is number of recipeints\n",
    "    ax.bar(plot_df['year'], plot_df['num_recipients'], color=\"#97CFC4\")\n",
    "    ax.set_title(title)\n",
    "    ax.set_xlabel(\"Year\")\n",
    "    ax.set_ylabel(\"Number of Recipients\")\n",
    "    "
   ]
  },
  {
   "cell_type": "code",
   "execution_count": 50,
   "metadata": {},
   "outputs": [
    {
     "data": {
      "image/png": "[encoded data removed]",
      "text/plain": [
       "<Figure size 2000x600 with 1 Axes>"
      ]
     },
     "metadata": {},
     "output_type": "display_data"
    }
   ],
   "source": [
    "# `counter` is used to save the number of nobel prize winners every year\n",
    "counter = {}\n",
    "for year in range(min(df_awards_raw.year), max(df_awards_raw.year) + 1):\n",
    "    # (TODO) compute total number of recipients that year \n",
    "    count = df_awards_raw[df_awards_raw.year == year].num_recipients.sum()\n",
    "    counter[year] = count\n",
    "\n",
    "fig = plt.figure(figsize=(20, 6), dpi=100)\n",
    "ax = fig.add_subplot(1, 1, 1)\n",
    "# (TODO) make another bar-plot, where x-axis is year and y-axis is total number of recipeints\n",
    "ax.bar(counter.keys(), counter.values(), color=\"#97CFC4\")\n",
    "ax.set_title('Total Amount of Nobel Prize')\n",
    "ax.set_xlabel('year')\n",
    "ax.set_ylabel('#Recipients');\n"
   ]
  },
  {
   "attachments": {},
   "cell_type": "markdown",
   "metadata": {},
   "source": [
    "## End of Normal Lab"
   ]
  },
  {
   "attachments": {},
   "cell_type": "markdown",
   "metadata": {},
   "source": [
    "\n",
    "## Optional Further Readings\n",
    "\n",
    "\n",
    "Here are a couple resources that he referenced early in his course that helped solidify my understanding of data science.\n",
    "\n",
    "<a href=\"https://www.tandfonline.com/doi/full/10.1080/10618600.2017.1384734\">50 Years of Data Science</a> by Dave Donoho  (2017)\n",
    "\n",
    "<a href=\"https://vita.had.co.nz/papers/tidy-data.pdf\"> Tidy data</a> by Hadley Wickam (2014)"
   ]
  },
  {
   "cell_type": "code",
   "execution_count": null,
   "metadata": {},
   "outputs": [],
   "source": []
  }
 ],
 "metadata": {
  "kernelspec": {
   "display_name": "Python 3 (ipykernel)",
   "language": "python",
   "name": "python3"
  },
  "language_info": {
   "codemirror_mode": {
    "name": "ipython",
    "version": 3
   },
   "file_extension": ".py",
   "mimetype": "text/x-python",
   "name": "python",
   "nbconvert_exporter": "python",
   "pygments_lexer": "ipython3",
   "version": "3.12.2"
  }
 },
 "nbformat": 4,
 "nbformat_minor": 4
}
